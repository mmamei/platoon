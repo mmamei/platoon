{
 "cells": [
  {
   "cell_type": "code",
   "execution_count": 1,
   "id": "british-forestry",
   "metadata": {},
   "outputs": [],
   "source": [
    "import pandas as pd\n",
    "import numpy as np\n",
    "from scipy import spatial\n",
    "import geopandas as gpd\n",
    "from shapely.geometry import Point, LineString, Polygon\n",
    "import fiona\n",
    "import statistics\n",
    "import contextily as cx"
   ]
  },
  {
   "cell_type": "code",
   "execution_count": 2,
   "id": "34ab7afc",
   "metadata": {},
   "outputs": [],
   "source": [
    "mypath = '/home/selihadji/Documenti/papers/Platoon_II/trips/'"
   ]
  },
  {
   "cell_type": "code",
   "execution_count": 3,
   "id": "a2b300a1",
   "metadata": {},
   "outputs": [],
   "source": [
    "from os import listdir\n",
    "from os.path import isfile, join\n",
    "onlyfiles = [f for f in listdir(mypath) if isfile(join(mypath, f))]"
   ]
  },
  {
   "cell_type": "code",
   "execution_count": 4,
   "id": "de8a4275",
   "metadata": {},
   "outputs": [
    {
     "data": {
      "text/plain": [
       "['2022_09_13_PS Skylark Test_12_25_12_42_730f4b99-81c3-4066-bb9e-06642f6ebda6.csv',\n",
       " '2022_09_13_LA2 Logi Jeep_12_24_12_42_ee6f89f4-a177-4115-b5d3-b44607330ad4.csv',\n",
       " '2022_09_13_RW2 Logi Jeep_12_24_12_41_0331710e-a173-4bec-a88a-c9a6854f0089.csv']"
      ]
     },
     "execution_count": 4,
     "metadata": {},
     "output_type": "execute_result"
    }
   ],
   "source": [
    "def filterSubstr(lists, substr):\n",
    "    return [x for x in lists if substr in x]\n",
    "\n",
    "searchString = '2022_09_13'\n",
    "onlyfiles_13_09 = filterSubstr(onlyfiles, searchString)\n",
    "\n",
    "\n",
    "searchString = '_12_2'\n",
    "onlyfiles = filterSubstr(onlyfiles_13_09, searchString)\n",
    "onlyfiles"
   ]
  },
  {
   "cell_type": "code",
   "execution_count": 5,
   "id": "df1115d7",
   "metadata": {},
   "outputs": [],
   "source": [
    "allfiles = []\n",
    "for i in range(len(onlyfiles)):\n",
    "    df = pd.read_csv(mypath + str(onlyfiles[i]), sep=';', decimal=',')\n",
    "    df['Time[ms]'] = pd.to_datetime(df['Time[ms]'], unit='ms')\n",
    "    df['driver'] = str(onlyfiles[i])[11:13]\n",
    "    coord_ = [Point(x, y) for x, y in zip(df.Longitude, df.Latitude)]\n",
    "    alldata_ = gpd.GeoDataFrame(df, geometry=coord_, crs =\"EPSG:4326\")\n",
    "    allfiles.append(df)\n",
    "alldata = pd.concat(allfiles, axis=0).reset_index(drop=True)"
   ]
  },
  {
   "cell_type": "code",
   "execution_count": 6,
   "id": "5889a45a",
   "metadata": {},
   "outputs": [],
   "source": [
    "alldata['data'] = alldata['Time[ms]'].dt.date"
   ]
  },
  {
   "cell_type": "code",
   "execution_count": 7,
   "id": "597bf289",
   "metadata": {},
   "outputs": [],
   "source": [
    "alldata[\"data\"] = pd.to_datetime(alldata[\"data\"])"
   ]
  },
  {
   "cell_type": "code",
   "execution_count": 8,
   "id": "c427347e",
   "metadata": {},
   "outputs": [],
   "source": [
    "alldata_RW = alldata[alldata.driver == 'RW']\n",
    "alldata_PS = alldata[alldata.driver == 'PS']\n",
    "alldata_LA = alldata[alldata.driver == 'LA']"
   ]
  },
  {
   "cell_type": "code",
   "execution_count": 9,
   "id": "d17c82c0",
   "metadata": {},
   "outputs": [],
   "source": [
    "allfiles = []\n",
    "for i in range(len(onlyfiles)):\n",
    "    df = pd.read_csv(mypath + str(onlyfiles[i]), sep=';', decimal=',')\n",
    "    df['Time[ms]'] = pd.to_datetime(df['Time[ms]'], unit='ms')\n",
    "    df['driver'] = str(onlyfiles[i])[11:13]\n",
    "    coord_ = [Point(x, y) for x, y in zip(df.Longitude, df.Latitude)]\n",
    "    alldata_ = gpd.GeoDataFrame(df, geometry=coord_, crs =\"EPSG:4326\")\n",
    "    allfiles.append(df)"
   ]
  },
  {
   "cell_type": "code",
   "execution_count": 10,
   "id": "97072dc1",
   "metadata": {},
   "outputs": [],
   "source": [
    "alldata = pd.concat(allfiles, axis=0).reset_index(drop=True)"
   ]
  },
  {
   "cell_type": "code",
   "execution_count": 11,
   "id": "9283854b",
   "metadata": {},
   "outputs": [
    {
     "data": {
      "text/plain": [
       "array(['PS', 'LA', 'RW'], dtype=object)"
      ]
     },
     "execution_count": 11,
     "metadata": {},
     "output_type": "execute_result"
    }
   ],
   "source": [
    "alldata.driver.unique()"
   ]
  },
  {
   "cell_type": "code",
   "execution_count": 12,
   "id": "chemical-pharmaceutical",
   "metadata": {},
   "outputs": [],
   "source": [
    "alldata_SORTED = alldata.sort_values(by = 'Time[ms]').reset_index(drop=True)"
   ]
  },
  {
   "cell_type": "code",
   "execution_count": 13,
   "id": "d71e02f8",
   "metadata": {},
   "outputs": [],
   "source": [
    "alldata_SORTED_cut = alldata_SORTED.dropna().reset_index(drop=True)"
   ]
  },
  {
   "cell_type": "code",
   "execution_count": 14,
   "id": "87f12f7e",
   "metadata": {},
   "outputs": [],
   "source": [
    "alldata_SORTED_cut['Time'] = pd.to_datetime(alldata_SORTED_cut['Time[ms]'].dt.strftime('%H:%M:%S'))"
   ]
  },
  {
   "cell_type": "code",
   "execution_count": 15,
   "id": "spectacular-contest",
   "metadata": {},
   "outputs": [],
   "source": [
    "rw = alldata_SORTED_cut[alldata_SORTED_cut.driver == 'RW'].reset_index(drop=True).drop_duplicates()\n",
    "la = alldata_SORTED_cut[alldata_SORTED_cut.driver == 'LA'].reset_index(drop=True).drop_duplicates()\n",
    "ps = alldata_SORTED_cut[alldata_SORTED_cut.driver == 'PS'].reset_index(drop=True).drop_duplicates()"
   ]
  },
  {
   "cell_type": "code",
   "execution_count": 16,
   "id": "indoor-netherlands",
   "metadata": {},
   "outputs": [],
   "source": [
    "from haversine import haversine, Unit\n",
    "import haversine as hs"
   ]
  },
  {
   "cell_type": "code",
   "execution_count": 17,
   "id": "dd367c93",
   "metadata": {},
   "outputs": [],
   "source": [
    "platoon_alldist = []\n",
    "platoon_all_CO2 = []\n",
    "\n",
    "platoon_all_lat_dist = []\n",
    "platoon_all_lon_dist = []\n",
    "\n",
    "platoon_all_lat_CO2 = []\n",
    "platoon_all_lon_CO2 = []\n",
    "\n",
    "#ps --> rw\n",
    "#jc --> la\n",
    "#dw --> ps\n",
    "\n",
    "\n",
    "for i in range(len(rw)):\n",
    "    platoon_lat_dist = []\n",
    "    platoon_lon_dist = []\n",
    "    platoon_lat_CO2 = []\n",
    "    platoon_lon_CO2 = []\n",
    "    platoon_dist = []\n",
    "    CO2_max = []\n",
    "    dist_mat = []\n",
    "    \n",
    "    rw_ = rw.iloc[i]\n",
    "    \n",
    "    df_array1 = (rw_.Latitude, rw_.Longitude)\n",
    "\n",
    "    la_ = la[la['Time'] > rw_['Time']].reset_index(drop=True)\n",
    "    df_array2 = list(zip(la_.Latitude, la_.Longitude))[0:60]\n",
    "        \n",
    "    for j in range(len(df_array2)):\n",
    "        dist_mat.append(hs.haversine(df_array1,df_array2[j],unit=Unit.METERS))\n",
    "\n",
    "    la_mindist = min(dist_mat)\n",
    "    la_mindist_index = dist_mat.index(la_mindist)\n",
    "\n",
    "    platoon_dist.append(la_mindist)\n",
    "\n",
    "    platoon_lat_dist.append(la_.iloc[la_mindist_index][\"Latitude\"])\n",
    "    platoon_lon_dist.append(la_.iloc[la_mindist_index][\"Longitude\"])\n",
    "\n",
    "    CO2 = []\n",
    "    CO2.append(la_.iloc[0]['CO2[kg]'])\n",
    "    try:\n",
    "        CO2.extend(list(la_.iloc[1:21]['CO2[kg]']))\n",
    "    except:\n",
    "        pass\n",
    "    \n",
    "    la_maxCO2 = max(CO2)\n",
    "    la_maxCO2_index = CO2.index(la_maxCO2)\n",
    "    CO2_max.append(la_.reset_index(drop=True).iloc[la_maxCO2_index]['CO2[kg]'])\n",
    "    platoon_lat_CO2.append(la_.reset_index(drop=True).iloc[la_maxCO2_index][\"Latitude\"])\n",
    "    platoon_lon_CO2.append(la_.reset_index(drop=True).iloc[la_maxCO2_index][\"Longitude\"])    \n",
    "\n",
    "\n",
    "    ps_ = ps[ps['Time'] > la_['Time'][la_mindist_index]].reset_index(drop=True)\n",
    "    df_array3 = list(zip(ps_.Latitude, ps_.Longitude))[0:60]        \n",
    "    \n",
    "    dist_mat = []\n",
    "\n",
    "    for j in range(len(df_array3)):\n",
    "        dist_mat.append(hs.haversine(df_array2[la_mindist_index],df_array3[j],unit=Unit.METERS))\n",
    "\n",
    "    ps_mindist = min(dist_mat)\n",
    "    ps_mindist_index = dist_mat.index(ps_mindist)\n",
    "\n",
    "    platoon_dist.append(ps_mindist)\n",
    "    platoon_lat_dist.append(ps_.reset_index(drop=True).iloc[ps_mindist_index][\"Latitude\"])\n",
    "    platoon_lon_dist.append(ps_.reset_index(drop=True).iloc[ps_mindist_index][\"Longitude\"])    \n",
    "\n",
    "    CO2 = []\n",
    "\n",
    "    CO2.append(ps_.iloc[0]['CO2[kg]'])\n",
    "    try:\n",
    "        CO2.extend(list(ps_.iloc[1:21]['CO2[kg]']))\n",
    "    except:\n",
    "        pass\n",
    "    ps_maxCO2 = max(CO2)\n",
    "    ps_maxCO2_index = CO2.index(ps_maxCO2)\n",
    "    CO2_max.append(ps_.reset_index(drop=True).iloc[ps_maxCO2_index]['CO2[kg]'])\n",
    "    platoon_lat_CO2.append(ps_.reset_index(drop=True).iloc[ps_maxCO2_index][\"Latitude\"])\n",
    "    platoon_lon_CO2.append(ps_.reset_index(drop=True).iloc[ps_maxCO2_index][\"Longitude\"])  \n",
    "\n",
    "      \n",
    "    platoon_all_lat_dist.append(platoon_lat_dist)\n",
    "    platoon_all_lon_dist.append(platoon_lon_dist)\n",
    "    platoon_all_lat_CO2.append(platoon_lat_CO2)\n",
    "    platoon_all_lon_CO2.append(platoon_lon_CO2)\n",
    "    platoon_alldist.append(platoon_dist)\n",
    "    platoon_all_CO2.append(CO2_max)"
   ]
  },
  {
   "cell_type": "code",
   "execution_count": 18,
   "id": "a5fd7a21",
   "metadata": {},
   "outputs": [
    {
     "data": {
      "text/plain": [
       "<Axes: >"
      ]
     },
     "execution_count": 18,
     "metadata": {},
     "output_type": "execute_result"
    },
    {
     "data": {
      "image/png": "[encoded data removed]",
      "text/plain": [
       "<Figure size 3000x1000 with 1 Axes>"
      ]
     },
     "metadata": {},
     "output_type": "display_data"
    }
   ],
   "source": [
    "pd.DataFrame(platoon_alldist, columns = ['RW_LA', 'LA_PS']).plot(figsize=(30,10))"
   ]
  },
  {
   "cell_type": "code",
   "execution_count": 19,
   "id": "7611aec8",
   "metadata": {},
   "outputs": [],
   "source": [
    "dist_v = pd.DataFrame(platoon_alldist, columns = ['RW_LA', 'LA_PS'])\n",
    "pd.DataFrame(platoon_alldist, columns = ['RW_LA', 'LA_PS']).to_csv('distance_platoon.csv', index=False)"
   ]
  },
  {
   "cell_type": "code",
   "execution_count": 20,
   "id": "444d257e",
   "metadata": {},
   "outputs": [],
   "source": [
    "dist_coord = pd.concat([pd.DataFrame(platoon_all_lat_dist, columns=['v1_lat', 'v2_lat'])['v1_lat'], pd.DataFrame(platoon_all_lon_dist, columns=['v1_lon', 'v2_lon'])['v1_lon'],pd.DataFrame(platoon_all_lat_dist, columns=['v1_lat', 'v2_lat'])['v2_lat'], pd.DataFrame(platoon_all_lon_dist, columns=['v1_lon', 'v2_lon'])['v2_lon']], axis=1)"
   ]
  },
  {
   "cell_type": "code",
   "execution_count": 21,
   "id": "486c275b",
   "metadata": {},
   "outputs": [],
   "source": [
    "pd.concat([pd.DataFrame(platoon_all_lat_dist, columns=['v1_lat', 'v2_lat'])['v1_lat'], pd.DataFrame(platoon_all_lon_dist, columns=['v1_lon', 'v2_lon'])['v1_lon'],pd.DataFrame(platoon_all_lat_dist, columns=['v1_lat', 'v2_lat'])['v2_lat'], pd.DataFrame(platoon_all_lon_dist, columns=['v1_lon', 'v2_lon'])['v2_lon']], axis=1).to_csv('platoon_distances_coord.csv', index=False)"
   ]
  },
  {
   "cell_type": "code",
   "execution_count": 22,
   "id": "9b8266d5",
   "metadata": {},
   "outputs": [
    {
     "data": {
      "text/plain": [
       "array(['Turn_left', '4-ways intersection', 'Traffic_light', 'Curve',\n",
       "       'Road_immission', 'Turn_right'], dtype=object)"
      ]
     },
     "execution_count": 22,
     "metadata": {},
     "output_type": "execute_result"
    }
   ],
   "source": [
    "infr = pd.read_csv('/home/selihadji/Documenti/papers/Platoon_II/infrast_data_update_.csv', sep=';')\n",
    "infr.what.unique()"
   ]
  },
  {
   "cell_type": "code",
   "execution_count": 23,
   "id": "783b81e0",
   "metadata": {},
   "outputs": [],
   "source": [
    "allveic = []\n",
    "for k in range(0, len(dist_coord.columns)-1, 2):\n",
    "    veic = []\n",
    "    for i in range(len(dist_coord)):\n",
    "        infra = []\n",
    "        for j in range(len(infr)):\n",
    "            inf = (infr.iloc[j].lon,infr.iloc[j].lat)\n",
    "            distcoor = (dist_coord.iloc[i][str(dist_coord.columns[k+1])], dist_coord.iloc[i][str(dist_coord.columns[k])])\n",
    "            infra.append(hs.haversine(inf,distcoor,unit=Unit.METERS))\n",
    "        veic.append(infra)\n",
    "    allveic.append(veic)"
   ]
  },
  {
   "cell_type": "code",
   "execution_count": 24,
   "id": "0137f35c",
   "metadata": {},
   "outputs": [],
   "source": [
    "v1 = pd.DataFrame(allveic[0])\n",
    "v2 = pd.DataFrame(allveic[1])"
   ]
  },
  {
   "cell_type": "code",
   "execution_count": 25,
   "id": "cbdfeb5d",
   "metadata": {},
   "outputs": [],
   "source": [
    "allfeat = []\n",
    "for i in range(len(v1)): \n",
    "    allfeat.append(list(v1[v1<500].iloc[i].dropna()))\n",
    "new_v1 = pd.DataFrame(allfeat).iloc[:,0:7].fillna(0)"
   ]
  },
  {
   "cell_type": "code",
   "execution_count": 26,
   "id": "68e094be",
   "metadata": {},
   "outputs": [],
   "source": [
    "allfeat = []\n",
    "for i in range(len(v2)): \n",
    "    allfeat.append(list(v2[v2<500].iloc[i].dropna()))\n",
    "new_v2 = pd.DataFrame(allfeat).iloc[:,0:7].fillna(0)"
   ]
  },
  {
   "cell_type": "code",
   "execution_count": 27,
   "id": "27f4dec0",
   "metadata": {},
   "outputs": [],
   "source": [
    "v1.columns = infr.what\n",
    "v2.columns = infr.what"
   ]
  },
  {
   "cell_type": "code",
   "execution_count": 28,
   "id": "605e9728",
   "metadata": {},
   "outputs": [],
   "source": [
    "vlist = []\n",
    "vlist.append(v1)\n",
    "vlist.append(v2)"
   ]
  },
  {
   "cell_type": "code",
   "execution_count": 29,
   "id": "d3ccde1a",
   "metadata": {},
   "outputs": [],
   "source": [
    "import statsmodels.api as sm"
   ]
  },
  {
   "cell_type": "code",
   "execution_count": 30,
   "id": "5a735593",
   "metadata": {},
   "outputs": [
    {
     "data": {
      "text/html": [
       "<table class=\"simpletable\">\n",
       "<caption>OLS Regression Results</caption>\n",
       "<tr>\n",
       "  <th>Dep. Variable:</th>          <td>LA_PS</td>      <th>  R-squared (uncentered):</th>      <td>   0.723</td> \n",
       "</tr>\n",
       "<tr>\n",
       "  <th>Model:</th>                   <td>OLS</td>       <th>  Adj. R-squared (uncentered):</th> <td>   0.721</td> \n",
       "</tr>\n",
       "<tr>\n",
       "  <th>Method:</th>             <td>Least Squares</td>  <th>  F-statistic:       </th>          <td>   305.6</td> \n",
       "</tr>\n",
       "<tr>\n",
       "  <th>Date:</th>             <td>Tue, 01 Aug 2023</td> <th>  Prob (F-statistic):</th>          <td>1.38e-223</td>\n",
       "</tr>\n",
       "<tr>\n",
       "  <th>Time:</th>                 <td>09:02:35</td>     <th>  Log-Likelihood:    </th>          <td> -4372.0</td> \n",
       "</tr>\n",
       "<tr>\n",
       "  <th>No. Observations:</th>      <td>   827</td>      <th>  AIC:               </th>          <td>   8758.</td> \n",
       "</tr>\n",
       "<tr>\n",
       "  <th>Df Residuals:</th>          <td>   820</td>      <th>  BIC:               </th>          <td>   8791.</td> \n",
       "</tr>\n",
       "<tr>\n",
       "  <th>Df Model:</th>              <td>     7</td>      <th>                     </th>              <td> </td>    \n",
       "</tr>\n",
       "<tr>\n",
       "  <th>Covariance Type:</th>      <td>nonrobust</td>    <th>                     </th>              <td> </td>    \n",
       "</tr>\n",
       "</table>\n",
       "<table class=\"simpletable\">\n",
       "<tr>\n",
       "              <td></td>                <th>coef</th>     <th>std err</th>      <th>t</th>      <th>P>|t|</th>  <th>[0.025</th>    <th>0.975]</th>  \n",
       "</tr>\n",
       "<tr>\n",
       "  <th>Feat_4-ways intersection</th> <td>   72.8053</td> <td>   11.490</td> <td>    6.337</td> <td> 0.000</td> <td>   50.252</td> <td>   95.358</td>\n",
       "</tr>\n",
       "<tr>\n",
       "  <th>Feat_Curve</th>               <td>   -5.1070</td> <td>   10.072</td> <td>   -0.507</td> <td> 0.612</td> <td>  -24.878</td> <td>   14.664</td>\n",
       "</tr>\n",
       "<tr>\n",
       "  <th>Feat_Road_immission</th>      <td>    2.0420</td> <td>   10.016</td> <td>    0.204</td> <td> 0.839</td> <td>  -17.619</td> <td>   21.703</td>\n",
       "</tr>\n",
       "<tr>\n",
       "  <th>Feat_Traffic_light</th>       <td>   12.6458</td> <td>    2.279</td> <td>    5.550</td> <td> 0.000</td> <td>    8.173</td> <td>   17.118</td>\n",
       "</tr>\n",
       "<tr>\n",
       "  <th>Feat_Turn_left</th>           <td>  -16.7299</td> <td>    6.048</td> <td>   -2.766</td> <td> 0.006</td> <td>  -28.602</td> <td>   -4.858</td>\n",
       "</tr>\n",
       "<tr>\n",
       "  <th>Feat_Turn_right</th>          <td>    1.7696</td> <td>    6.863</td> <td>    0.258</td> <td> 0.797</td> <td>  -11.701</td> <td>   15.240</td>\n",
       "</tr>\n",
       "<tr>\n",
       "  <th>old_dist</th>                 <td>    0.7991</td> <td>    0.021</td> <td>   38.093</td> <td> 0.000</td> <td>    0.758</td> <td>    0.840</td>\n",
       "</tr>\n",
       "</table>\n",
       "<table class=\"simpletable\">\n",
       "<tr>\n",
       "  <th>Omnibus:</th>       <td>861.217</td> <th>  Durbin-Watson:     </th> <td>   0.083</td> \n",
       "</tr>\n",
       "<tr>\n",
       "  <th>Prob(Omnibus):</th> <td> 0.000</td>  <th>  Jarque-Bera (JB):  </th> <td>43451.908</td>\n",
       "</tr>\n",
       "<tr>\n",
       "  <th>Skew:</th>          <td> 4.949</td>  <th>  Prob(JB):          </th> <td>    0.00</td> \n",
       "</tr>\n",
       "<tr>\n",
       "  <th>Kurtosis:</th>      <td>37.103</td>  <th>  Cond. No.          </th> <td>    627.</td> \n",
       "</tr>\n",
       "</table><br/><br/>Notes:<br/>[1] R² is computed without centering (uncentered) since the model does not contain a constant.<br/>[2] Standard Errors assume that the covariance matrix of the errors is correctly specified."
      ],
      "text/latex": [
       "\\begin{center}\n",
       "\\begin{tabular}{lclc}\n",
       "\\toprule\n",
       "\\textbf{Dep. Variable:}            &      LA\\_PS      & \\textbf{  R-squared (uncentered):}      &     0.723   \\\\\n",
       "\\textbf{Model:}                    &       OLS        & \\textbf{  Adj. R-squared (uncentered):} &     0.721   \\\\\n",
       "\\textbf{Method:}                   &  Least Squares   & \\textbf{  F-statistic:       }          &     305.6   \\\\\n",
       "\\textbf{Date:}                     & Tue, 01 Aug 2023 & \\textbf{  Prob (F-statistic):}          & 1.38e-223   \\\\\n",
       "\\textbf{Time:}                     &     09:02:35     & \\textbf{  Log-Likelihood:    }          &   -4372.0   \\\\\n",
       "\\textbf{No. Observations:}         &         827      & \\textbf{  AIC:               }          &     8758.   \\\\\n",
       "\\textbf{Df Residuals:}             &         820      & \\textbf{  BIC:               }          &     8791.   \\\\\n",
       "\\textbf{Df Model:}                 &           7      & \\textbf{                     }          &             \\\\\n",
       "\\textbf{Covariance Type:}          &    nonrobust     & \\textbf{                     }          &             \\\\\n",
       "\\bottomrule\n",
       "\\end{tabular}\n",
       "\\begin{tabular}{lcccccc}\n",
       "                                   & \\textbf{coef} & \\textbf{std err} & \\textbf{t} & \\textbf{P$> |$t$|$} & \\textbf{[0.025} & \\textbf{0.975]}  \\\\\n",
       "\\midrule\n",
       "\\textbf{Feat\\_4-ways intersection} &      72.8053  &       11.490     &     6.337  &         0.000        &       50.252    &       95.358     \\\\\n",
       "\\textbf{Feat\\_Curve}               &      -5.1070  &       10.072     &    -0.507  &         0.612        &      -24.878    &       14.664     \\\\\n",
       "\\textbf{Feat\\_Road\\_immission}     &       2.0420  &       10.016     &     0.204  &         0.839        &      -17.619    &       21.703     \\\\\n",
       "\\textbf{Feat\\_Traffic\\_light}      &      12.6458  &        2.279     &     5.550  &         0.000        &        8.173    &       17.118     \\\\\n",
       "\\textbf{Feat\\_Turn\\_left}          &     -16.7299  &        6.048     &    -2.766  &         0.006        &      -28.602    &       -4.858     \\\\\n",
       "\\textbf{Feat\\_Turn\\_right}         &       1.7696  &        6.863     &     0.258  &         0.797        &      -11.701    &       15.240     \\\\\n",
       "\\textbf{old\\_dist}                 &       0.7991  &        0.021     &    38.093  &         0.000        &        0.758    &        0.840     \\\\\n",
       "\\bottomrule\n",
       "\\end{tabular}\n",
       "\\begin{tabular}{lclc}\n",
       "\\textbf{Omnibus:}       & 861.217 & \\textbf{  Durbin-Watson:     } &     0.083  \\\\\n",
       "\\textbf{Prob(Omnibus):} &   0.000 & \\textbf{  Jarque-Bera (JB):  } & 43451.908  \\\\\n",
       "\\textbf{Skew:}          &   4.949 & \\textbf{  Prob(JB):          } &      0.00  \\\\\n",
       "\\textbf{Kurtosis:}      &  37.103 & \\textbf{  Cond. No.          } &      627.  \\\\\n",
       "\\bottomrule\n",
       "\\end{tabular}\n",
       "%\\caption{OLS Regression Results}\n",
       "\\end{center}\n",
       "\n",
       "Notes: \\newline\n",
       " [1] R² is computed without centering (uncentered) since the model does not contain a constant. \\newline\n",
       " [2] Standard Errors assume that the covariance matrix of the errors is correctly specified."
      ],
      "text/plain": [
       "<class 'statsmodels.iolib.summary.Summary'>\n",
       "\"\"\"\n",
       "                                 OLS Regression Results                                \n",
       "=======================================================================================\n",
       "Dep. Variable:                  LA_PS   R-squared (uncentered):                   0.723\n",
       "Model:                            OLS   Adj. R-squared (uncentered):              0.721\n",
       "Method:                 Least Squares   F-statistic:                              305.6\n",
       "Date:                Tue, 01 Aug 2023   Prob (F-statistic):                   1.38e-223\n",
       "Time:                        09:02:35   Log-Likelihood:                         -4372.0\n",
       "No. Observations:                 827   AIC:                                      8758.\n",
       "Df Residuals:                     820   BIC:                                      8791.\n",
       "Df Model:                           7                                                  \n",
       "Covariance Type:            nonrobust                                                  \n",
       "============================================================================================\n",
       "                               coef    std err          t      P>|t|      [0.025      0.975]\n",
       "--------------------------------------------------------------------------------------------\n",
       "Feat_4-ways intersection    72.8053     11.490      6.337      0.000      50.252      95.358\n",
       "Feat_Curve                  -5.1070     10.072     -0.507      0.612     -24.878      14.664\n",
       "Feat_Road_immission          2.0420     10.016      0.204      0.839     -17.619      21.703\n",
       "Feat_Traffic_light          12.6458      2.279      5.550      0.000       8.173      17.118\n",
       "Feat_Turn_left             -16.7299      6.048     -2.766      0.006     -28.602      -4.858\n",
       "Feat_Turn_right              1.7696      6.863      0.258      0.797     -11.701      15.240\n",
       "old_dist                     0.7991      0.021     38.093      0.000       0.758       0.840\n",
       "==============================================================================\n",
       "Omnibus:                      861.217   Durbin-Watson:                   0.083\n",
       "Prob(Omnibus):                  0.000   Jarque-Bera (JB):            43451.908\n",
       "Skew:                           4.949   Prob(JB):                         0.00\n",
       "Kurtosis:                      37.103   Cond. No.                         627.\n",
       "==============================================================================\n",
       "\n",
       "Notes:\n",
       "[1] R² is computed without centering (uncentered) since the model does not contain a constant.\n",
       "[2] Standard Errors assume that the covariance matrix of the errors is correctly specified.\n",
       "\"\"\""
      ]
     },
     "execution_count": 30,
     "metadata": {},
     "output_type": "execute_result"
    }
   ],
   "source": [
    "all_X = []\n",
    "all_y = []\n",
    "\n",
    "for k in range(len(vlist)):\n",
    "    feats = []\n",
    "    v = vlist[k]\n",
    "    infrast = v.idxmin(axis=1)\n",
    "    for i in range(len(v)):\n",
    "        if (v.iloc[i][str(infrast[i])] < 80).any():\n",
    "            feats.append([infrast[i]])\n",
    "        else:\n",
    "            feats.append([])\n",
    "    new_v = pd.get_dummies(pd.DataFrame(feats), prefix='Feat')\n",
    "\n",
    "    X = new_v.copy()\n",
    "    y = dist_v[str(dist_v.columns[k])]\n",
    "    X['old_dist'] = dist_v[str(dist_v.columns[k])].shift(10).fillna(0)\n",
    "    all_X.append(X)\n",
    "    all_y.append(y)\n",
    "\n",
    "all_X_ = pd.concat(all_X).reset_index(drop=True).fillna(0)\n",
    "all_y_ = pd.concat(all_y).reset_index(drop=True).fillna(0)\n",
    "model = sm.OLS(y, X).fit()\n",
    "predictions = model.predict(X)\n",
    "model.summary()"
   ]
  },
  {
   "cell_type": "code",
   "execution_count": 31,
   "id": "c0830b30",
   "metadata": {},
   "outputs": [],
   "source": [
    "results_summary = model.summary()\n",
    "df = pd.DataFrame.from_records(results_summary.tables[1].data)\n",
    "header = df.iloc[0]\n",
    "df = df[1:] # take the data less the header row\n",
    "df.columns = header\n",
    "df.to_csv('platoon_II_13_09_12_24_12.csv')"
   ]
  },
  {
   "cell_type": "code",
   "execution_count": 32,
   "id": "144b5782",
   "metadata": {},
   "outputs": [
    {
     "data": {
      "text/html": [
       "<table class=\"simpletable\">\n",
       "<caption>OLS Regression Results</caption>\n",
       "<tr>\n",
       "  <th>Dep. Variable:</th>          <td>LA_PS</td>      <th>  R-squared (uncentered):</th>      <td>   0.718</td> \n",
       "</tr>\n",
       "<tr>\n",
       "  <th>Model:</th>                   <td>OLS</td>       <th>  Adj. R-squared (uncentered):</th> <td>   0.715</td> \n",
       "</tr>\n",
       "<tr>\n",
       "  <th>Method:</th>             <td>Least Squares</td>  <th>  F-statistic:       </th>          <td>   297.6</td> \n",
       "</tr>\n",
       "<tr>\n",
       "  <th>Date:</th>             <td>Tue, 01 Aug 2023</td> <th>  Prob (F-statistic):</th>          <td>3.46e-220</td>\n",
       "</tr>\n",
       "<tr>\n",
       "  <th>Time:</th>                 <td>09:02:35</td>     <th>  Log-Likelihood:    </th>          <td>  3743.8</td> \n",
       "</tr>\n",
       "<tr>\n",
       "  <th>No. Observations:</th>      <td>   827</td>      <th>  AIC:               </th>          <td>  -7474.</td> \n",
       "</tr>\n",
       "<tr>\n",
       "  <th>Df Residuals:</th>          <td>   820</td>      <th>  BIC:               </th>          <td>  -7441.</td> \n",
       "</tr>\n",
       "<tr>\n",
       "  <th>Df Model:</th>              <td>     7</td>      <th>                     </th>              <td> </td>    \n",
       "</tr>\n",
       "<tr>\n",
       "  <th>Covariance Type:</th>      <td>nonrobust</td>    <th>                     </th>              <td> </td>    \n",
       "</tr>\n",
       "</table>\n",
       "<table class=\"simpletable\">\n",
       "<tr>\n",
       "              <td></td>                <th>coef</th>     <th>std err</th>      <th>t</th>      <th>P>|t|</th>  <th>[0.025</th>    <th>0.975]</th>  \n",
       "</tr>\n",
       "<tr>\n",
       "  <th>Feat_4-ways intersection</th> <td>    0.0015</td> <td>    0.001</td> <td>    2.461</td> <td> 0.014</td> <td>    0.000</td> <td>    0.003</td>\n",
       "</tr>\n",
       "<tr>\n",
       "  <th>Feat_Curve</th>               <td>    0.0018</td> <td>    0.001</td> <td>    3.318</td> <td> 0.001</td> <td>    0.001</td> <td>    0.003</td>\n",
       "</tr>\n",
       "<tr>\n",
       "  <th>Feat_Road_immission</th>      <td>    0.0057</td> <td>    0.001</td> <td>   10.334</td> <td> 0.000</td> <td>    0.005</td> <td>    0.007</td>\n",
       "</tr>\n",
       "<tr>\n",
       "  <th>Feat_Traffic_light</th>       <td>    0.0041</td> <td>    0.000</td> <td>   33.050</td> <td> 0.000</td> <td>    0.004</td> <td>    0.004</td>\n",
       "</tr>\n",
       "<tr>\n",
       "  <th>Feat_Turn_left</th>           <td>    0.0056</td> <td>    0.000</td> <td>   16.794</td> <td> 0.000</td> <td>    0.005</td> <td>    0.006</td>\n",
       "</tr>\n",
       "<tr>\n",
       "  <th>Feat_Turn_right</th>          <td>    0.0073</td> <td>    0.000</td> <td>   19.349</td> <td> 0.000</td> <td>    0.007</td> <td>    0.008</td>\n",
       "</tr>\n",
       "<tr>\n",
       "  <th>old_dist</th>                 <td> 1.411e-06</td> <td> 1.15e-06</td> <td>    1.229</td> <td> 0.219</td> <td>-8.42e-07</td> <td> 3.66e-06</td>\n",
       "</tr>\n",
       "</table>\n",
       "<table class=\"simpletable\">\n",
       "<tr>\n",
       "  <th>Omnibus:</th>       <td> 5.848</td> <th>  Durbin-Watson:     </th> <td>   0.188</td>\n",
       "</tr>\n",
       "<tr>\n",
       "  <th>Prob(Omnibus):</th> <td> 0.054</td> <th>  Jarque-Bera (JB):  </th> <td>   4.398</td>\n",
       "</tr>\n",
       "<tr>\n",
       "  <th>Skew:</th>          <td> 0.046</td> <th>  Prob(JB):          </th> <td>   0.111</td>\n",
       "</tr>\n",
       "<tr>\n",
       "  <th>Kurtosis:</th>      <td> 2.655</td> <th>  Cond. No.          </th> <td>    627.</td>\n",
       "</tr>\n",
       "</table><br/><br/>Notes:<br/>[1] R² is computed without centering (uncentered) since the model does not contain a constant.<br/>[2] Standard Errors assume that the covariance matrix of the errors is correctly specified."
      ],
      "text/latex": [
       "\\begin{center}\n",
       "\\begin{tabular}{lclc}\n",
       "\\toprule\n",
       "\\textbf{Dep. Variable:}            &      LA\\_PS      & \\textbf{  R-squared (uncentered):}      &     0.718   \\\\\n",
       "\\textbf{Model:}                    &       OLS        & \\textbf{  Adj. R-squared (uncentered):} &     0.715   \\\\\n",
       "\\textbf{Method:}                   &  Least Squares   & \\textbf{  F-statistic:       }          &     297.6   \\\\\n",
       "\\textbf{Date:}                     & Tue, 01 Aug 2023 & \\textbf{  Prob (F-statistic):}          & 3.46e-220   \\\\\n",
       "\\textbf{Time:}                     &     09:02:35     & \\textbf{  Log-Likelihood:    }          &    3743.8   \\\\\n",
       "\\textbf{No. Observations:}         &         827      & \\textbf{  AIC:               }          &    -7474.   \\\\\n",
       "\\textbf{Df Residuals:}             &         820      & \\textbf{  BIC:               }          &    -7441.   \\\\\n",
       "\\textbf{Df Model:}                 &           7      & \\textbf{                     }          &             \\\\\n",
       "\\textbf{Covariance Type:}          &    nonrobust     & \\textbf{                     }          &             \\\\\n",
       "\\bottomrule\n",
       "\\end{tabular}\n",
       "\\begin{tabular}{lcccccc}\n",
       "                                   & \\textbf{coef} & \\textbf{std err} & \\textbf{t} & \\textbf{P$> |$t$|$} & \\textbf{[0.025} & \\textbf{0.975]}  \\\\\n",
       "\\midrule\n",
       "\\textbf{Feat\\_4-ways intersection} &       0.0015  &        0.001     &     2.461  &         0.014        &        0.000    &        0.003     \\\\\n",
       "\\textbf{Feat\\_Curve}               &       0.0018  &        0.001     &     3.318  &         0.001        &        0.001    &        0.003     \\\\\n",
       "\\textbf{Feat\\_Road\\_immission}     &       0.0057  &        0.001     &    10.334  &         0.000        &        0.005    &        0.007     \\\\\n",
       "\\textbf{Feat\\_Traffic\\_light}      &       0.0041  &        0.000     &    33.050  &         0.000        &        0.004    &        0.004     \\\\\n",
       "\\textbf{Feat\\_Turn\\_left}          &       0.0056  &        0.000     &    16.794  &         0.000        &        0.005    &        0.006     \\\\\n",
       "\\textbf{Feat\\_Turn\\_right}         &       0.0073  &        0.000     &    19.349  &         0.000        &        0.007    &        0.008     \\\\\n",
       "\\textbf{old\\_dist}                 &    1.411e-06  &     1.15e-06     &     1.229  &         0.219        &    -8.42e-07    &     3.66e-06     \\\\\n",
       "\\bottomrule\n",
       "\\end{tabular}\n",
       "\\begin{tabular}{lclc}\n",
       "\\textbf{Omnibus:}       &  5.848 & \\textbf{  Durbin-Watson:     } &    0.188  \\\\\n",
       "\\textbf{Prob(Omnibus):} &  0.054 & \\textbf{  Jarque-Bera (JB):  } &    4.398  \\\\\n",
       "\\textbf{Skew:}          &  0.046 & \\textbf{  Prob(JB):          } &    0.111  \\\\\n",
       "\\textbf{Kurtosis:}      &  2.655 & \\textbf{  Cond. No.          } &     627.  \\\\\n",
       "\\bottomrule\n",
       "\\end{tabular}\n",
       "%\\caption{OLS Regression Results}\n",
       "\\end{center}\n",
       "\n",
       "Notes: \\newline\n",
       " [1] R² is computed without centering (uncentered) since the model does not contain a constant. \\newline\n",
       " [2] Standard Errors assume that the covariance matrix of the errors is correctly specified."
      ],
      "text/plain": [
       "<class 'statsmodels.iolib.summary.Summary'>\n",
       "\"\"\"\n",
       "                                 OLS Regression Results                                \n",
       "=======================================================================================\n",
       "Dep. Variable:                  LA_PS   R-squared (uncentered):                   0.718\n",
       "Model:                            OLS   Adj. R-squared (uncentered):              0.715\n",
       "Method:                 Least Squares   F-statistic:                              297.6\n",
       "Date:                Tue, 01 Aug 2023   Prob (F-statistic):                   3.46e-220\n",
       "Time:                        09:02:35   Log-Likelihood:                          3743.8\n",
       "No. Observations:                 827   AIC:                                     -7474.\n",
       "Df Residuals:                     820   BIC:                                     -7441.\n",
       "Df Model:                           7                                                  \n",
       "Covariance Type:            nonrobust                                                  \n",
       "============================================================================================\n",
       "                               coef    std err          t      P>|t|      [0.025      0.975]\n",
       "--------------------------------------------------------------------------------------------\n",
       "Feat_4-ways intersection     0.0015      0.001      2.461      0.014       0.000       0.003\n",
       "Feat_Curve                   0.0018      0.001      3.318      0.001       0.001       0.003\n",
       "Feat_Road_immission          0.0057      0.001     10.334      0.000       0.005       0.007\n",
       "Feat_Traffic_light           0.0041      0.000     33.050      0.000       0.004       0.004\n",
       "Feat_Turn_left               0.0056      0.000     16.794      0.000       0.005       0.006\n",
       "Feat_Turn_right              0.0073      0.000     19.349      0.000       0.007       0.008\n",
       "old_dist                  1.411e-06   1.15e-06      1.229      0.219   -8.42e-07    3.66e-06\n",
       "==============================================================================\n",
       "Omnibus:                        5.848   Durbin-Watson:                   0.188\n",
       "Prob(Omnibus):                  0.054   Jarque-Bera (JB):                4.398\n",
       "Skew:                           0.046   Prob(JB):                        0.111\n",
       "Kurtosis:                       2.655   Cond. No.                         627.\n",
       "==============================================================================\n",
       "\n",
       "Notes:\n",
       "[1] R² is computed without centering (uncentered) since the model does not contain a constant.\n",
       "[2] Standard Errors assume that the covariance matrix of the errors is correctly specified.\n",
       "\"\"\""
      ]
     },
     "execution_count": 32,
     "metadata": {},
     "output_type": "execute_result"
    }
   ],
   "source": [
    "platoon_all_CO2_ = pd.DataFrame(platoon_all_CO2, columns = ['RW_LA', 'LA_PS'])\n",
    "pd.DataFrame(platoon_all_CO2, columns = ['RW_LA', 'LA_PS']).to_csv('CO2_platoon.csv', index=False)\n",
    "\n",
    "all_X = []\n",
    "all_y = []\n",
    "\n",
    "for k in range(len(vlist)):\n",
    "    feats = []\n",
    "    v = vlist[k]\n",
    "    infrast = v.idxmin(axis=1)\n",
    "    for i in range(len(v)):\n",
    "        if (v.iloc[i][str(infrast[i])] <80).any():\n",
    "            feats.append([infrast[i]])\n",
    "        else:\n",
    "            feats.append([])\n",
    "    new_v = pd.get_dummies(pd.DataFrame(feats), prefix='Feat')\n",
    "\n",
    "    X = new_v.copy()\n",
    "    y = platoon_all_CO2_[str(platoon_all_CO2_.columns[k])]\n",
    "    X['old_dist'] = dist_v[str(dist_v.columns[k])].shift(10).fillna(0)\n",
    "    all_X.append(X)\n",
    "    all_y.append(y)\n",
    "\n",
    "all_X_ = pd.concat(all_X).reset_index(drop=True).fillna(0)\n",
    "all_y_ = pd.concat(all_y).reset_index(drop=True).fillna(0)\n",
    "model = sm.OLS(y, X).fit()\n",
    "predictions = model.predict(X)\n",
    "model.summary()"
   ]
  },
  {
   "cell_type": "code",
   "execution_count": 33,
   "id": "16e23bac",
   "metadata": {},
   "outputs": [],
   "source": [
    "results_summary = model.summary()\n",
    "df = pd.DataFrame.from_records(results_summary.tables[1].data)\n",
    "header = df.iloc[0]\n",
    "df = df[1:] # take the data less the header row\n",
    "df.columns = header\n",
    "df.to_csv('platoon_II_13_09_12_24_12_CO2.csv')"
   ]
  },
  {
   "cell_type": "code",
   "execution_count": null,
   "id": "3fb691f8",
   "metadata": {},
   "outputs": [],
   "source": []
  }
 ],
 "metadata": {
  "kernelspec": {
   "display_name": "Python 3 (ipykernel)",
   "language": "python",
   "name": "python3"
  },
  "language_info": {
   "codemirror_mode": {
    "name": "ipython",
    "version": 3
   },
   "file_extension": ".py",
   "mimetype": "text/x-python",
   "name": "python",
   "nbconvert_exporter": "python",
   "pygments_lexer": "ipython3",
   "version": "3.10.9"
  }
 },
 "nbformat": 4,
 "nbformat_minor": 5
}
