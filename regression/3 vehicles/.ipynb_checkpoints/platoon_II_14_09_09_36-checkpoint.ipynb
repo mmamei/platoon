{
 "cells": [
  {
   "cell_type": "code",
   "execution_count": 1,
   "id": "british-forestry",
   "metadata": {},
   "outputs": [],
   "source": [
    "import pandas as pd\n",
    "import numpy as np\n",
    "from scipy import spatial\n",
    "import geopandas as gpd\n",
    "from shapely.geometry import Point, LineString, Polygon\n",
    "import fiona\n",
    "import statistics\n",
    "import contextily as cx"
   ]
  },
  {
   "cell_type": "code",
   "execution_count": 2,
   "id": "34ab7afc",
   "metadata": {},
   "outputs": [],
   "source": [
    "mypath = '/home/selihadji/Documenti/papers/Platoon_II/trips/'"
   ]
  },
  {
   "cell_type": "code",
   "execution_count": 3,
   "id": "a2b300a1",
   "metadata": {},
   "outputs": [],
   "source": [
    "from os import listdir\n",
    "from os.path import isfile, join\n",
    "onlyfiles = [f for f in listdir(mypath) if isfile(join(mypath, f))]"
   ]
  },
  {
   "cell_type": "code",
   "execution_count": 4,
   "id": "de8a4275",
   "metadata": {},
   "outputs": [
    {
     "data": {
      "text/plain": [
       "['2022_09_14_RG Logi Jeep_09_36_09_56_ef737537-ae23-4ad9-afb8-d3c111913e10.csv',\n",
       " '2022_09_14_PS Skylark Test_09_35_09_56_ad524fc6-b1b2-4b26-902d-a58fac3b42b0.csv',\n",
       " '2022_09_14_LA2 Logi Jeep_09_36_09_56_d8202880-9ded-46ea-94fe-63e9ad74eb85.csv']"
      ]
     },
     "execution_count": 4,
     "metadata": {},
     "output_type": "execute_result"
    }
   ],
   "source": [
    "def filterSubstr(lists, substr):\n",
    "    return [x for x in lists if substr in x]\n",
    "\n",
    "searchString = '2022_09_14'\n",
    "onlyfiles_14_09 = filterSubstr(onlyfiles, searchString)\n",
    "onlyfiles_14_09\n",
    "\n",
    "searchString = '_09_3'\n",
    "onlyfiles = filterSubstr(onlyfiles_14_09, searchString)\n",
    "onlyfiles\n",
    "\n",
    "#searchString2 = '_12_28'\n",
    "#onlyfiles2 = filterSubstr(onlyfiles_14_09, searchString2)\n",
    "#onlyfiles = onlyfiles1 + onlyfiles2\n",
    "#onlyfiles"
   ]
  },
  {
   "cell_type": "code",
   "execution_count": 5,
   "id": "df1115d7",
   "metadata": {},
   "outputs": [],
   "source": [
    "allfiles = []\n",
    "for i in range(len(onlyfiles)):\n",
    "    df = pd.read_csv(mypath + str(onlyfiles[i]), sep=';', decimal=',')\n",
    "    df['Time[ms]'] = pd.to_datetime(df['Time[ms]'], unit='ms')\n",
    "    df['driver'] = str(onlyfiles[i])[11:13]\n",
    "    coord_ = [Point(x, y) for x, y in zip(df.Longitude, df.Latitude)]\n",
    "    alldata_ = gpd.GeoDataFrame(df, geometry=coord_, crs =\"EPSG:4326\")\n",
    "    allfiles.append(df)\n",
    "alldata = pd.concat(allfiles, axis=0).reset_index(drop=True)"
   ]
  },
  {
   "cell_type": "code",
   "execution_count": 6,
   "id": "5889a45a",
   "metadata": {},
   "outputs": [],
   "source": [
    "alldata['data'] = alldata['Time[ms]'].dt.date"
   ]
  },
  {
   "cell_type": "code",
   "execution_count": 7,
   "id": "597bf289",
   "metadata": {},
   "outputs": [],
   "source": [
    "alldata[\"data\"] = pd.to_datetime(alldata[\"data\"])"
   ]
  },
  {
   "cell_type": "code",
   "execution_count": 8,
   "id": "c427347e",
   "metadata": {},
   "outputs": [],
   "source": [
    "alldata_RG = alldata[alldata.driver == 'RG']\n",
    "alldata_PS = alldata[alldata.driver == 'PS']\n",
    "alldata_LA = alldata[alldata.driver == 'LA']"
   ]
  },
  {
   "cell_type": "code",
   "execution_count": 9,
   "id": "d17c82c0",
   "metadata": {},
   "outputs": [],
   "source": [
    "allfiles = []\n",
    "for i in range(len(onlyfiles)):\n",
    "    df = pd.read_csv(mypath + str(onlyfiles[i]), sep=';', decimal=',')\n",
    "    df['Time[ms]'] = pd.to_datetime(df['Time[ms]'], unit='ms')\n",
    "    df['driver'] = str(onlyfiles[i])[11:13]\n",
    "    coord_ = [Point(x, y) for x, y in zip(df.Longitude, df.Latitude)]\n",
    "    alldata_ = gpd.GeoDataFrame(df, geometry=coord_, crs =\"EPSG:4326\")\n",
    "    allfiles.append(df)"
   ]
  },
  {
   "cell_type": "code",
   "execution_count": 10,
   "id": "97072dc1",
   "metadata": {},
   "outputs": [],
   "source": [
    "alldata = pd.concat(allfiles, axis=0).reset_index(drop=True)"
   ]
  },
  {
   "cell_type": "code",
   "execution_count": 11,
   "id": "9283854b",
   "metadata": {},
   "outputs": [
    {
     "data": {
      "text/plain": [
       "array(['RG', 'PS', 'LA'], dtype=object)"
      ]
     },
     "execution_count": 11,
     "metadata": {},
     "output_type": "execute_result"
    }
   ],
   "source": [
    "alldata.driver.unique()"
   ]
  },
  {
   "cell_type": "code",
   "execution_count": 12,
   "id": "chemical-pharmaceutical",
   "metadata": {},
   "outputs": [],
   "source": [
    "alldata_SORTED = alldata.sort_values(by = 'Time[ms]').reset_index(drop=True)"
   ]
  },
  {
   "cell_type": "code",
   "execution_count": 13,
   "id": "d71e02f8",
   "metadata": {},
   "outputs": [],
   "source": [
    "alldata_SORTED_cut = alldata_SORTED.dropna().reset_index(drop=True)"
   ]
  },
  {
   "cell_type": "code",
   "execution_count": 14,
   "id": "87f12f7e",
   "metadata": {},
   "outputs": [],
   "source": [
    "alldata_SORTED_cut['Time'] = pd.to_datetime(alldata_SORTED_cut['Time[ms]'].dt.strftime('%H:%M:%S'))"
   ]
  },
  {
   "cell_type": "code",
   "execution_count": 15,
   "id": "spectacular-contest",
   "metadata": {},
   "outputs": [],
   "source": [
    "rg = alldata_SORTED_cut[alldata_SORTED_cut.driver == 'RG'].reset_index(drop=True).drop_duplicates()\n",
    "la = alldata_SORTED_cut[alldata_SORTED_cut.driver == 'LA'].reset_index(drop=True).drop_duplicates()\n",
    "ps = alldata_SORTED_cut[alldata_SORTED_cut.driver == 'PS'].reset_index(drop=True).drop_duplicates()"
   ]
  },
  {
   "cell_type": "code",
   "execution_count": 16,
   "id": "indoor-netherlands",
   "metadata": {},
   "outputs": [],
   "source": [
    "from haversine import haversine, Unit\n",
    "import haversine as hs"
   ]
  },
  {
   "cell_type": "code",
   "execution_count": 17,
   "id": "68aece2a",
   "metadata": {},
   "outputs": [
    {
     "ename": "ValueError",
     "evalue": "min() arg is an empty sequence",
     "output_type": "error",
     "traceback": [
      "\u001b[0;31m---------------------------------------------------------------------------\u001b[0m",
      "\u001b[0;31mValueError\u001b[0m                                Traceback (most recent call last)",
      "Cell \u001b[0;32mIn[17], line 34\u001b[0m\n\u001b[1;32m     31\u001b[0m \u001b[38;5;28;01mfor\u001b[39;00m j \u001b[38;5;129;01min\u001b[39;00m \u001b[38;5;28mrange\u001b[39m(\u001b[38;5;28mlen\u001b[39m(df_array2)):\n\u001b[1;32m     32\u001b[0m     dist_mat\u001b[38;5;241m.\u001b[39mappend(hs\u001b[38;5;241m.\u001b[39mhaversine(df_array1,df_array2[j],unit\u001b[38;5;241m=\u001b[39mUnit\u001b[38;5;241m.\u001b[39mMETERS))\n\u001b[0;32m---> 34\u001b[0m la_mindist \u001b[38;5;241m=\u001b[39m \u001b[38;5;28;43mmin\u001b[39;49m\u001b[43m(\u001b[49m\u001b[43mdist_mat\u001b[49m\u001b[43m)\u001b[49m\n\u001b[1;32m     35\u001b[0m la_mindist_index \u001b[38;5;241m=\u001b[39m dist_mat\u001b[38;5;241m.\u001b[39mindex(la_mindist)\n\u001b[1;32m     37\u001b[0m platoon_dist\u001b[38;5;241m.\u001b[39mappend(la_mindist)\n",
      "\u001b[0;31mValueError\u001b[0m: min() arg is an empty sequence"
     ]
    }
   ],
   "source": [
    "platoon_alldist = []\n",
    "platoon_all_CO2 = []\n",
    "\n",
    "platoon_all_lat_dist = []\n",
    "platoon_all_lon_dist = []\n",
    "\n",
    "platoon_all_lat_CO2 = []\n",
    "platoon_all_lon_CO2 = []\n",
    "\n",
    "#ps --> rg\n",
    "#jc --> la\n",
    "#dw --> ps\n",
    "\n",
    "\n",
    "for i in range(len(rg)):\n",
    "    platoon_lat_dist = []\n",
    "    platoon_lon_dist = []\n",
    "    platoon_lat_CO2 = []\n",
    "    platoon_lon_CO2 = []\n",
    "    platoon_dist = []\n",
    "    CO2_max = []\n",
    "    dist_mat = []\n",
    "    \n",
    "    rg_ = rg.iloc[i]\n",
    "    \n",
    "    df_array1 = (rg_.Latitude, rg_.Longitude)\n",
    "\n",
    "    la_ = la[la['Time'] > rg_['Time']].reset_index(drop=True)\n",
    "    df_array2 = list(zip(la_.Latitude, la_.Longitude))[0:60]\n",
    "        \n",
    "    for j in range(len(df_array2)):\n",
    "        dist_mat.append(hs.haversine(df_array1,df_array2[j],unit=Unit.METERS))\n",
    "\n",
    "    la_mindist = min(dist_mat)\n",
    "    la_mindist_index = dist_mat.index(la_mindist)\n",
    "\n",
    "    platoon_dist.append(la_mindist)\n",
    "\n",
    "    platoon_lat_dist.append(la_.iloc[la_mindist_index][\"Latitude\"])\n",
    "    platoon_lon_dist.append(la_.iloc[la_mindist_index][\"Longitude\"])\n",
    "\n",
    "    CO2 = []\n",
    "    CO2.append(la_.iloc[0]['CO2[kg]'])\n",
    "    try:\n",
    "        CO2.extend(list(la_.iloc[1:21]['CO2[kg]']))\n",
    "    except:\n",
    "        pass\n",
    "    \n",
    "    la_maxCO2 = max(CO2)\n",
    "    la_maxCO2_index = CO2.index(la_maxCO2)\n",
    "    CO2_max.append(la_.reset_index(drop=True).iloc[la_maxCO2_index]['CO2[kg]'])\n",
    "    platoon_lat_CO2.append(la_.reset_index(drop=True).iloc[la_maxCO2_index][\"Latitude\"])\n",
    "    platoon_lon_CO2.append(la_.reset_index(drop=True).iloc[la_maxCO2_index][\"Longitude\"])    \n",
    "\n",
    "\n",
    "    ps_ = ps[ps['Time'] > la_['Time'][la_mindist_index]].reset_index(drop=True)\n",
    "    df_array3 = list(zip(ps_.Latitude, ps_.Longitude))[0:60]        \n",
    "    \n",
    "    dist_mat = []\n",
    "\n",
    "    for j in range(len(df_array3)):\n",
    "        dist_mat.append(hs.haversine(df_array2[la_mindist_index],df_array3[j],unit=Unit.METERS))\n",
    "\n",
    "    ps_mindist = min(dist_mat)\n",
    "    ps_mindist_index = dist_mat.index(ps_mindist)\n",
    "\n",
    "    platoon_dist.append(ps_mindist)\n",
    "    platoon_lat_dist.append(ps_.reset_index(drop=True).iloc[ps_mindist_index][\"Latitude\"])\n",
    "    platoon_lon_dist.append(ps_.reset_index(drop=True).iloc[ps_mindist_index][\"Longitude\"])    \n",
    "\n",
    "    CO2 = []\n",
    "\n",
    "    CO2.append(ps_.iloc[0]['CO2[kg]'])\n",
    "    try:\n",
    "        CO2.extend(list(ps_.iloc[1:21]['CO2[kg]']))\n",
    "    except:\n",
    "        pass\n",
    "    ps_maxCO2 = max(CO2)\n",
    "    ps_maxCO2_index = CO2.index(ps_maxCO2)\n",
    "    CO2_max.append(ps_.reset_index(drop=True).iloc[ps_maxCO2_index]['CO2[kg]'])\n",
    "    platoon_lat_CO2.append(ps_.reset_index(drop=True).iloc[ps_maxCO2_index][\"Latitude\"])\n",
    "    platoon_lon_CO2.append(ps_.reset_index(drop=True).iloc[ps_maxCO2_index][\"Longitude\"])  \n",
    "\n",
    "      \n",
    "    platoon_all_lat_dist.append(platoon_lat_dist)\n",
    "    platoon_all_lon_dist.append(platoon_lon_dist)\n",
    "    platoon_all_lat_CO2.append(platoon_lat_CO2)\n",
    "    platoon_all_lon_CO2.append(platoon_lon_CO2)\n",
    "    platoon_alldist.append(platoon_dist)\n",
    "    platoon_all_CO2.append(CO2_max)"
   ]
  },
  {
   "cell_type": "code",
   "execution_count": 18,
   "id": "a5fd7a21",
   "metadata": {},
   "outputs": [
    {
     "data": {
      "text/plain": [
       "<Axes: >"
      ]
     },
     "execution_count": 18,
     "metadata": {},
     "output_type": "execute_result"
    },
    {
     "data": {
      "image/png": "[encoded data removed]",
      "text/plain": [
       "<Figure size 3000x1000 with 1 Axes>"
      ]
     },
     "metadata": {},
     "output_type": "display_data"
    }
   ],
   "source": [
    "pd.DataFrame(platoon_alldist, columns = ['RG_LA', 'LA_PS']).plot(figsize=(30,10))"
   ]
  },
  {
   "cell_type": "code",
   "execution_count": 19,
   "id": "7611aec8",
   "metadata": {},
   "outputs": [],
   "source": [
    "dist_v = pd.DataFrame(platoon_alldist, columns = ['RG_LA', 'LA_PS'])\n",
    "pd.DataFrame(platoon_alldist, columns = ['RG_LA', 'LA_PS']).to_csv('distance_platoon.csv', index=False)"
   ]
  },
  {
   "cell_type": "code",
   "execution_count": 20,
   "id": "444d257e",
   "metadata": {},
   "outputs": [],
   "source": [
    "dist_coord = pd.concat([pd.DataFrame(platoon_all_lat_dist, columns=['v1_lat', 'v2_lat'])['v1_lat'], pd.DataFrame(platoon_all_lon_dist, columns=['v1_lon', 'v2_lon'])['v1_lon'],pd.DataFrame(platoon_all_lat_dist, columns=['v1_lat', 'v2_lat'])['v2_lat'], pd.DataFrame(platoon_all_lon_dist, columns=['v1_lon', 'v2_lon'])['v2_lon']], axis=1)"
   ]
  },
  {
   "cell_type": "code",
   "execution_count": 21,
   "id": "486c275b",
   "metadata": {},
   "outputs": [],
   "source": [
    "pd.concat([pd.DataFrame(platoon_all_lat_dist, columns=['v1_lat', 'v2_lat'])['v1_lat'], pd.DataFrame(platoon_all_lon_dist, columns=['v1_lon', 'v2_lon'])['v1_lon'],pd.DataFrame(platoon_all_lat_dist, columns=['v1_lat', 'v2_lat'])['v2_lat'], pd.DataFrame(platoon_all_lon_dist, columns=['v1_lon', 'v2_lon'])['v2_lon']], axis=1).to_csv('platoon_distances_coord.csv', index=False)"
   ]
  },
  {
   "cell_type": "code",
   "execution_count": 22,
   "id": "9b8266d5",
   "metadata": {},
   "outputs": [
    {
     "data": {
      "text/plain": [
       "array(['Turn_left', '4-ways intersection', 'Traffic_light', 'Curve',\n",
       "       'Road_immission', 'Turn_right'], dtype=object)"
      ]
     },
     "execution_count": 22,
     "metadata": {},
     "output_type": "execute_result"
    }
   ],
   "source": [
    "infr = pd.read_csv('/home/selihadji/Documenti/papers/Platoon_II/infrast_data_update_.csv', sep=';')\n",
    "infr.what.unique()"
   ]
  },
  {
   "cell_type": "code",
   "execution_count": 23,
   "id": "783b81e0",
   "metadata": {},
   "outputs": [],
   "source": [
    "allveic = []\n",
    "for k in range(0, len(dist_coord.columns)-1, 2):\n",
    "    veic = []\n",
    "    for i in range(len(dist_coord)):\n",
    "        infra = []\n",
    "        for j in range(len(infr)):\n",
    "            inf = (infr.iloc[j].lon,infr.iloc[j].lat)\n",
    "            distcoor = (dist_coord.iloc[i][str(dist_coord.columns[k+1])], dist_coord.iloc[i][str(dist_coord.columns[k])])\n",
    "            infra.append(hs.haversine(inf,distcoor,unit=Unit.METERS))\n",
    "        veic.append(infra)\n",
    "    allveic.append(veic)"
   ]
  },
  {
   "cell_type": "code",
   "execution_count": 24,
   "id": "0137f35c",
   "metadata": {},
   "outputs": [],
   "source": [
    "v1 = pd.DataFrame(allveic[0])\n",
    "v2 = pd.DataFrame(allveic[1])"
   ]
  },
  {
   "cell_type": "code",
   "execution_count": 25,
   "id": "cbdfeb5d",
   "metadata": {},
   "outputs": [],
   "source": [
    "allfeat = []\n",
    "for i in range(len(v1)): \n",
    "    allfeat.append(list(v1[v1<500].iloc[i].dropna()))\n",
    "new_v1 = pd.DataFrame(allfeat).iloc[:,0:7].fillna(0)"
   ]
  },
  {
   "cell_type": "code",
   "execution_count": 26,
   "id": "68e094be",
   "metadata": {},
   "outputs": [],
   "source": [
    "allfeat = []\n",
    "for i in range(len(v2)): \n",
    "    allfeat.append(list(v2[v2<500].iloc[i].dropna()))\n",
    "new_v2 = pd.DataFrame(allfeat).iloc[:,0:7].fillna(0)"
   ]
  },
  {
   "cell_type": "code",
   "execution_count": 27,
   "id": "27f4dec0",
   "metadata": {},
   "outputs": [],
   "source": [
    "v1.columns = infr.what\n",
    "v2.columns = infr.what"
   ]
  },
  {
   "cell_type": "code",
   "execution_count": 28,
   "id": "605e9728",
   "metadata": {},
   "outputs": [],
   "source": [
    "vlist = []\n",
    "vlist.append(v1)\n",
    "vlist.append(v2)"
   ]
  },
  {
   "cell_type": "code",
   "execution_count": 29,
   "id": "d3ccde1a",
   "metadata": {},
   "outputs": [],
   "source": [
    "import statsmodels.api as sm"
   ]
  },
  {
   "cell_type": "code",
   "execution_count": 30,
   "id": "5a735593",
   "metadata": {},
   "outputs": [
    {
     "data": {
      "text/html": [
       "<table class=\"simpletable\">\n",
       "<caption>OLS Regression Results</caption>\n",
       "<tr>\n",
       "  <th>Dep. Variable:</th>          <td>LA_PS</td>      <th>  R-squared (uncentered):</th>      <td>   0.506</td> \n",
       "</tr>\n",
       "<tr>\n",
       "  <th>Model:</th>                   <td>OLS</td>       <th>  Adj. R-squared (uncentered):</th> <td>   0.502</td> \n",
       "</tr>\n",
       "<tr>\n",
       "  <th>Method:</th>             <td>Least Squares</td>  <th>  F-statistic:       </th>          <td>   117.0</td> \n",
       "</tr>\n",
       "<tr>\n",
       "  <th>Date:</th>             <td>Tue, 01 Aug 2023</td> <th>  Prob (F-statistic):</th>          <td>6.00e-118</td>\n",
       "</tr>\n",
       "<tr>\n",
       "  <th>Time:</th>                 <td>09:08:54</td>     <th>  Log-Likelihood:    </th>          <td> -2499.2</td> \n",
       "</tr>\n",
       "<tr>\n",
       "  <th>No. Observations:</th>      <td>   807</td>      <th>  AIC:               </th>          <td>   5012.</td> \n",
       "</tr>\n",
       "<tr>\n",
       "  <th>Df Residuals:</th>          <td>   800</td>      <th>  BIC:               </th>          <td>   5045.</td> \n",
       "</tr>\n",
       "<tr>\n",
       "  <th>Df Model:</th>              <td>     7</td>      <th>                     </th>              <td> </td>    \n",
       "</tr>\n",
       "<tr>\n",
       "  <th>Covariance Type:</th>      <td>nonrobust</td>    <th>                     </th>              <td> </td>    \n",
       "</tr>\n",
       "</table>\n",
       "<table class=\"simpletable\">\n",
       "<tr>\n",
       "              <td></td>                <th>coef</th>     <th>std err</th>      <th>t</th>      <th>P>|t|</th>  <th>[0.025</th>    <th>0.975]</th>  \n",
       "</tr>\n",
       "<tr>\n",
       "  <th>Feat_4-ways intersection</th> <td>    4.0560</td> <td>    1.310</td> <td>    3.096</td> <td> 0.002</td> <td>    1.485</td> <td>    6.627</td>\n",
       "</tr>\n",
       "<tr>\n",
       "  <th>Feat_Curve</th>               <td>    0.4098</td> <td>    1.019</td> <td>    0.402</td> <td> 0.688</td> <td>   -1.591</td> <td>    2.411</td>\n",
       "</tr>\n",
       "<tr>\n",
       "  <th>Feat_Road_immission</th>      <td>    1.3427</td> <td>    1.084</td> <td>    1.239</td> <td> 0.216</td> <td>   -0.784</td> <td>    3.470</td>\n",
       "</tr>\n",
       "<tr>\n",
       "  <th>Feat_Traffic_light</th>       <td>    3.0453</td> <td>    0.304</td> <td>   10.031</td> <td> 0.000</td> <td>    2.449</td> <td>    3.641</td>\n",
       "</tr>\n",
       "<tr>\n",
       "  <th>Feat_Turn_left</th>           <td>    2.5094</td> <td>    1.177</td> <td>    2.132</td> <td> 0.033</td> <td>    0.198</td> <td>    4.820</td>\n",
       "</tr>\n",
       "<tr>\n",
       "  <th>Feat_Turn_right</th>          <td>   -1.3780</td> <td>    0.746</td> <td>   -1.847</td> <td> 0.065</td> <td>   -2.842</td> <td>    0.086</td>\n",
       "</tr>\n",
       "<tr>\n",
       "  <th>old_dist</th>                 <td>    0.5112</td> <td>    0.031</td> <td>   16.278</td> <td> 0.000</td> <td>    0.450</td> <td>    0.573</td>\n",
       "</tr>\n",
       "</table>\n",
       "<table class=\"simpletable\">\n",
       "<tr>\n",
       "  <th>Omnibus:</th>       <td>332.320</td> <th>  Durbin-Watson:     </th> <td>   0.354</td>\n",
       "</tr>\n",
       "<tr>\n",
       "  <th>Prob(Omnibus):</th> <td> 0.000</td>  <th>  Jarque-Bera (JB):  </th> <td>2719.722</td>\n",
       "</tr>\n",
       "<tr>\n",
       "  <th>Skew:</th>          <td> 1.650</td>  <th>  Prob(JB):          </th> <td>    0.00</td>\n",
       "</tr>\n",
       "<tr>\n",
       "  <th>Kurtosis:</th>      <td>11.366</td>  <th>  Cond. No.          </th> <td>    52.7</td>\n",
       "</tr>\n",
       "</table><br/><br/>Notes:<br/>[1] R² is computed without centering (uncentered) since the model does not contain a constant.<br/>[2] Standard Errors assume that the covariance matrix of the errors is correctly specified."
      ],
      "text/latex": [
       "\\begin{center}\n",
       "\\begin{tabular}{lclc}\n",
       "\\toprule\n",
       "\\textbf{Dep. Variable:}            &      LA\\_PS      & \\textbf{  R-squared (uncentered):}      &     0.506   \\\\\n",
       "\\textbf{Model:}                    &       OLS        & \\textbf{  Adj. R-squared (uncentered):} &     0.502   \\\\\n",
       "\\textbf{Method:}                   &  Least Squares   & \\textbf{  F-statistic:       }          &     117.0   \\\\\n",
       "\\textbf{Date:}                     & Tue, 01 Aug 2023 & \\textbf{  Prob (F-statistic):}          & 6.00e-118   \\\\\n",
       "\\textbf{Time:}                     &     09:08:54     & \\textbf{  Log-Likelihood:    }          &   -2499.2   \\\\\n",
       "\\textbf{No. Observations:}         &         807      & \\textbf{  AIC:               }          &     5012.   \\\\\n",
       "\\textbf{Df Residuals:}             &         800      & \\textbf{  BIC:               }          &     5045.   \\\\\n",
       "\\textbf{Df Model:}                 &           7      & \\textbf{                     }          &             \\\\\n",
       "\\textbf{Covariance Type:}          &    nonrobust     & \\textbf{                     }          &             \\\\\n",
       "\\bottomrule\n",
       "\\end{tabular}\n",
       "\\begin{tabular}{lcccccc}\n",
       "                                   & \\textbf{coef} & \\textbf{std err} & \\textbf{t} & \\textbf{P$> |$t$|$} & \\textbf{[0.025} & \\textbf{0.975]}  \\\\\n",
       "\\midrule\n",
       "\\textbf{Feat\\_4-ways intersection} &       4.0560  &        1.310     &     3.096  &         0.002        &        1.485    &        6.627     \\\\\n",
       "\\textbf{Feat\\_Curve}               &       0.4098  &        1.019     &     0.402  &         0.688        &       -1.591    &        2.411     \\\\\n",
       "\\textbf{Feat\\_Road\\_immission}     &       1.3427  &        1.084     &     1.239  &         0.216        &       -0.784    &        3.470     \\\\\n",
       "\\textbf{Feat\\_Traffic\\_light}      &       3.0453  &        0.304     &    10.031  &         0.000        &        2.449    &        3.641     \\\\\n",
       "\\textbf{Feat\\_Turn\\_left}          &       2.5094  &        1.177     &     2.132  &         0.033        &        0.198    &        4.820     \\\\\n",
       "\\textbf{Feat\\_Turn\\_right}         &      -1.3780  &        0.746     &    -1.847  &         0.065        &       -2.842    &        0.086     \\\\\n",
       "\\textbf{old\\_dist}                 &       0.5112  &        0.031     &    16.278  &         0.000        &        0.450    &        0.573     \\\\\n",
       "\\bottomrule\n",
       "\\end{tabular}\n",
       "\\begin{tabular}{lclc}\n",
       "\\textbf{Omnibus:}       & 332.320 & \\textbf{  Durbin-Watson:     } &    0.354  \\\\\n",
       "\\textbf{Prob(Omnibus):} &   0.000 & \\textbf{  Jarque-Bera (JB):  } & 2719.722  \\\\\n",
       "\\textbf{Skew:}          &   1.650 & \\textbf{  Prob(JB):          } &     0.00  \\\\\n",
       "\\textbf{Kurtosis:}      &  11.366 & \\textbf{  Cond. No.          } &     52.7  \\\\\n",
       "\\bottomrule\n",
       "\\end{tabular}\n",
       "%\\caption{OLS Regression Results}\n",
       "\\end{center}\n",
       "\n",
       "Notes: \\newline\n",
       " [1] R² is computed without centering (uncentered) since the model does not contain a constant. \\newline\n",
       " [2] Standard Errors assume that the covariance matrix of the errors is correctly specified."
      ],
      "text/plain": [
       "<class 'statsmodels.iolib.summary.Summary'>\n",
       "\"\"\"\n",
       "                                 OLS Regression Results                                \n",
       "=======================================================================================\n",
       "Dep. Variable:                  LA_PS   R-squared (uncentered):                   0.506\n",
       "Model:                            OLS   Adj. R-squared (uncentered):              0.502\n",
       "Method:                 Least Squares   F-statistic:                              117.0\n",
       "Date:                Tue, 01 Aug 2023   Prob (F-statistic):                   6.00e-118\n",
       "Time:                        09:08:54   Log-Likelihood:                         -2499.2\n",
       "No. Observations:                 807   AIC:                                      5012.\n",
       "Df Residuals:                     800   BIC:                                      5045.\n",
       "Df Model:                           7                                                  \n",
       "Covariance Type:            nonrobust                                                  \n",
       "============================================================================================\n",
       "                               coef    std err          t      P>|t|      [0.025      0.975]\n",
       "--------------------------------------------------------------------------------------------\n",
       "Feat_4-ways intersection     4.0560      1.310      3.096      0.002       1.485       6.627\n",
       "Feat_Curve                   0.4098      1.019      0.402      0.688      -1.591       2.411\n",
       "Feat_Road_immission          1.3427      1.084      1.239      0.216      -0.784       3.470\n",
       "Feat_Traffic_light           3.0453      0.304     10.031      0.000       2.449       3.641\n",
       "Feat_Turn_left               2.5094      1.177      2.132      0.033       0.198       4.820\n",
       "Feat_Turn_right             -1.3780      0.746     -1.847      0.065      -2.842       0.086\n",
       "old_dist                     0.5112      0.031     16.278      0.000       0.450       0.573\n",
       "==============================================================================\n",
       "Omnibus:                      332.320   Durbin-Watson:                   0.354\n",
       "Prob(Omnibus):                  0.000   Jarque-Bera (JB):             2719.722\n",
       "Skew:                           1.650   Prob(JB):                         0.00\n",
       "Kurtosis:                      11.366   Cond. No.                         52.7\n",
       "==============================================================================\n",
       "\n",
       "Notes:\n",
       "[1] R² is computed without centering (uncentered) since the model does not contain a constant.\n",
       "[2] Standard Errors assume that the covariance matrix of the errors is correctly specified.\n",
       "\"\"\""
      ]
     },
     "execution_count": 30,
     "metadata": {},
     "output_type": "execute_result"
    }
   ],
   "source": [
    "all_X = []\n",
    "all_y = []\n",
    "\n",
    "for k in range(len(vlist)):\n",
    "    feats = []\n",
    "    v = vlist[k]\n",
    "    infrast = v.idxmin(axis=1)\n",
    "    for i in range(len(v)):\n",
    "        if (v.iloc[i][str(infrast[i])] < 80).any():\n",
    "            feats.append([infrast[i]])\n",
    "        else:\n",
    "            feats.append([])\n",
    "    new_v = pd.get_dummies(pd.DataFrame(feats), prefix='Feat')\n",
    "\n",
    "    X = new_v.copy()\n",
    "    y = dist_v[str(dist_v.columns[k])]\n",
    "    X['old_dist'] = dist_v[str(dist_v.columns[k])].shift(10).fillna(0)\n",
    "    all_X.append(X)\n",
    "    all_y.append(y)\n",
    "\n",
    "all_X_ = pd.concat(all_X).reset_index(drop=True).fillna(0)\n",
    "all_y_ = pd.concat(all_y).reset_index(drop=True).fillna(0)\n",
    "model = sm.OLS(y, X).fit()\n",
    "predictions = model.predict(X)\n",
    "model.summary()"
   ]
  },
  {
   "cell_type": "code",
   "execution_count": 31,
   "id": "c0830b30",
   "metadata": {},
   "outputs": [],
   "source": [
    "results_summary = model.summary()\n",
    "df = pd.DataFrame.from_records(results_summary.tables[1].data)\n",
    "header = df.iloc[0]\n",
    "df = df[1:] # take the data less the header row\n",
    "df.columns = header\n",
    "df.to_csv('platoon_II_14_09_09_36_.csv')"
   ]
  },
  {
   "cell_type": "code",
   "execution_count": 32,
   "id": "144b5782",
   "metadata": {},
   "outputs": [
    {
     "data": {
      "text/html": [
       "<table class=\"simpletable\">\n",
       "<caption>OLS Regression Results</caption>\n",
       "<tr>\n",
       "  <th>Dep. Variable:</th>          <td>LA_PS</td>      <th>  R-squared (uncentered):</th>      <td>   0.618</td> \n",
       "</tr>\n",
       "<tr>\n",
       "  <th>Model:</th>                   <td>OLS</td>       <th>  Adj. R-squared (uncentered):</th> <td>   0.615</td> \n",
       "</tr>\n",
       "<tr>\n",
       "  <th>Method:</th>             <td>Least Squares</td>  <th>  F-statistic:       </th>          <td>   185.2</td> \n",
       "</tr>\n",
       "<tr>\n",
       "  <th>Date:</th>             <td>Tue, 01 Aug 2023</td> <th>  Prob (F-statistic):</th>          <td>1.27e-162</td>\n",
       "</tr>\n",
       "<tr>\n",
       "  <th>Time:</th>                 <td>09:08:55</td>     <th>  Log-Likelihood:    </th>          <td>  3547.4</td> \n",
       "</tr>\n",
       "<tr>\n",
       "  <th>No. Observations:</th>      <td>   807</td>      <th>  AIC:               </th>          <td>  -7081.</td> \n",
       "</tr>\n",
       "<tr>\n",
       "  <th>Df Residuals:</th>          <td>   800</td>      <th>  BIC:               </th>          <td>  -7048.</td> \n",
       "</tr>\n",
       "<tr>\n",
       "  <th>Df Model:</th>              <td>     7</td>      <th>                     </th>              <td> </td>    \n",
       "</tr>\n",
       "<tr>\n",
       "  <th>Covariance Type:</th>      <td>nonrobust</td>    <th>                     </th>              <td> </td>    \n",
       "</tr>\n",
       "</table>\n",
       "<table class=\"simpletable\">\n",
       "<tr>\n",
       "              <td></td>                <th>coef</th>     <th>std err</th>      <th>t</th>      <th>P>|t|</th>  <th>[0.025</th>    <th>0.975]</th>  \n",
       "</tr>\n",
       "<tr>\n",
       "  <th>Feat_4-ways intersection</th> <td>    0.0025</td> <td>    0.001</td> <td>    3.459</td> <td> 0.001</td> <td>    0.001</td> <td>    0.004</td>\n",
       "</tr>\n",
       "<tr>\n",
       "  <th>Feat_Curve</th>               <td>    0.0017</td> <td>    0.001</td> <td>    3.048</td> <td> 0.002</td> <td>    0.001</td> <td>    0.003</td>\n",
       "</tr>\n",
       "<tr>\n",
       "  <th>Feat_Road_immission</th>      <td>    0.0021</td> <td>    0.001</td> <td>    3.397</td> <td> 0.001</td> <td>    0.001</td> <td>    0.003</td>\n",
       "</tr>\n",
       "<tr>\n",
       "  <th>Feat_Traffic_light</th>       <td>    0.0026</td> <td>    0.000</td> <td>   15.448</td> <td> 0.000</td> <td>    0.002</td> <td>    0.003</td>\n",
       "</tr>\n",
       "<tr>\n",
       "  <th>Feat_Turn_left</th>           <td>    0.0022</td> <td>    0.001</td> <td>    3.370</td> <td> 0.001</td> <td>    0.001</td> <td>    0.003</td>\n",
       "</tr>\n",
       "<tr>\n",
       "  <th>Feat_Turn_right</th>          <td>    0.0052</td> <td>    0.000</td> <td>   12.619</td> <td> 0.000</td> <td>    0.004</td> <td>    0.006</td>\n",
       "</tr>\n",
       "<tr>\n",
       "  <th>old_dist</th>                 <td>    0.0002</td> <td> 1.75e-05</td> <td>   13.082</td> <td> 0.000</td> <td>    0.000</td> <td>    0.000</td>\n",
       "</tr>\n",
       "</table>\n",
       "<table class=\"simpletable\">\n",
       "<tr>\n",
       "  <th>Omnibus:</th>       <td>21.422</td> <th>  Durbin-Watson:     </th> <td>   0.196</td>\n",
       "</tr>\n",
       "<tr>\n",
       "  <th>Prob(Omnibus):</th> <td> 0.000</td> <th>  Jarque-Bera (JB):  </th> <td>  27.691</td>\n",
       "</tr>\n",
       "<tr>\n",
       "  <th>Skew:</th>          <td> 0.289</td> <th>  Prob(JB):          </th> <td>9.70e-07</td>\n",
       "</tr>\n",
       "<tr>\n",
       "  <th>Kurtosis:</th>      <td> 3.700</td> <th>  Cond. No.          </th> <td>    52.7</td>\n",
       "</tr>\n",
       "</table><br/><br/>Notes:<br/>[1] R² is computed without centering (uncentered) since the model does not contain a constant.<br/>[2] Standard Errors assume that the covariance matrix of the errors is correctly specified."
      ],
      "text/latex": [
       "\\begin{center}\n",
       "\\begin{tabular}{lclc}\n",
       "\\toprule\n",
       "\\textbf{Dep. Variable:}            &      LA\\_PS      & \\textbf{  R-squared (uncentered):}      &     0.618   \\\\\n",
       "\\textbf{Model:}                    &       OLS        & \\textbf{  Adj. R-squared (uncentered):} &     0.615   \\\\\n",
       "\\textbf{Method:}                   &  Least Squares   & \\textbf{  F-statistic:       }          &     185.2   \\\\\n",
       "\\textbf{Date:}                     & Tue, 01 Aug 2023 & \\textbf{  Prob (F-statistic):}          & 1.27e-162   \\\\\n",
       "\\textbf{Time:}                     &     09:08:55     & \\textbf{  Log-Likelihood:    }          &    3547.4   \\\\\n",
       "\\textbf{No. Observations:}         &         807      & \\textbf{  AIC:               }          &    -7081.   \\\\\n",
       "\\textbf{Df Residuals:}             &         800      & \\textbf{  BIC:               }          &    -7048.   \\\\\n",
       "\\textbf{Df Model:}                 &           7      & \\textbf{                     }          &             \\\\\n",
       "\\textbf{Covariance Type:}          &    nonrobust     & \\textbf{                     }          &             \\\\\n",
       "\\bottomrule\n",
       "\\end{tabular}\n",
       "\\begin{tabular}{lcccccc}\n",
       "                                   & \\textbf{coef} & \\textbf{std err} & \\textbf{t} & \\textbf{P$> |$t$|$} & \\textbf{[0.025} & \\textbf{0.975]}  \\\\\n",
       "\\midrule\n",
       "\\textbf{Feat\\_4-ways intersection} &       0.0025  &        0.001     &     3.459  &         0.001        &        0.001    &        0.004     \\\\\n",
       "\\textbf{Feat\\_Curve}               &       0.0017  &        0.001     &     3.048  &         0.002        &        0.001    &        0.003     \\\\\n",
       "\\textbf{Feat\\_Road\\_immission}     &       0.0021  &        0.001     &     3.397  &         0.001        &        0.001    &        0.003     \\\\\n",
       "\\textbf{Feat\\_Traffic\\_light}      &       0.0026  &        0.000     &    15.448  &         0.000        &        0.002    &        0.003     \\\\\n",
       "\\textbf{Feat\\_Turn\\_left}          &       0.0022  &        0.001     &     3.370  &         0.001        &        0.001    &        0.003     \\\\\n",
       "\\textbf{Feat\\_Turn\\_right}         &       0.0052  &        0.000     &    12.619  &         0.000        &        0.004    &        0.006     \\\\\n",
       "\\textbf{old\\_dist}                 &       0.0002  &     1.75e-05     &    13.082  &         0.000        &        0.000    &        0.000     \\\\\n",
       "\\bottomrule\n",
       "\\end{tabular}\n",
       "\\begin{tabular}{lclc}\n",
       "\\textbf{Omnibus:}       & 21.422 & \\textbf{  Durbin-Watson:     } &    0.196  \\\\\n",
       "\\textbf{Prob(Omnibus):} &  0.000 & \\textbf{  Jarque-Bera (JB):  } &   27.691  \\\\\n",
       "\\textbf{Skew:}          &  0.289 & \\textbf{  Prob(JB):          } & 9.70e-07  \\\\\n",
       "\\textbf{Kurtosis:}      &  3.700 & \\textbf{  Cond. No.          } &     52.7  \\\\\n",
       "\\bottomrule\n",
       "\\end{tabular}\n",
       "%\\caption{OLS Regression Results}\n",
       "\\end{center}\n",
       "\n",
       "Notes: \\newline\n",
       " [1] R² is computed without centering (uncentered) since the model does not contain a constant. \\newline\n",
       " [2] Standard Errors assume that the covariance matrix of the errors is correctly specified."
      ],
      "text/plain": [
       "<class 'statsmodels.iolib.summary.Summary'>\n",
       "\"\"\"\n",
       "                                 OLS Regression Results                                \n",
       "=======================================================================================\n",
       "Dep. Variable:                  LA_PS   R-squared (uncentered):                   0.618\n",
       "Model:                            OLS   Adj. R-squared (uncentered):              0.615\n",
       "Method:                 Least Squares   F-statistic:                              185.2\n",
       "Date:                Tue, 01 Aug 2023   Prob (F-statistic):                   1.27e-162\n",
       "Time:                        09:08:55   Log-Likelihood:                          3547.4\n",
       "No. Observations:                 807   AIC:                                     -7081.\n",
       "Df Residuals:                     800   BIC:                                     -7048.\n",
       "Df Model:                           7                                                  \n",
       "Covariance Type:            nonrobust                                                  \n",
       "============================================================================================\n",
       "                               coef    std err          t      P>|t|      [0.025      0.975]\n",
       "--------------------------------------------------------------------------------------------\n",
       "Feat_4-ways intersection     0.0025      0.001      3.459      0.001       0.001       0.004\n",
       "Feat_Curve                   0.0017      0.001      3.048      0.002       0.001       0.003\n",
       "Feat_Road_immission          0.0021      0.001      3.397      0.001       0.001       0.003\n",
       "Feat_Traffic_light           0.0026      0.000     15.448      0.000       0.002       0.003\n",
       "Feat_Turn_left               0.0022      0.001      3.370      0.001       0.001       0.003\n",
       "Feat_Turn_right              0.0052      0.000     12.619      0.000       0.004       0.006\n",
       "old_dist                     0.0002   1.75e-05     13.082      0.000       0.000       0.000\n",
       "==============================================================================\n",
       "Omnibus:                       21.422   Durbin-Watson:                   0.196\n",
       "Prob(Omnibus):                  0.000   Jarque-Bera (JB):               27.691\n",
       "Skew:                           0.289   Prob(JB):                     9.70e-07\n",
       "Kurtosis:                       3.700   Cond. No.                         52.7\n",
       "==============================================================================\n",
       "\n",
       "Notes:\n",
       "[1] R² is computed without centering (uncentered) since the model does not contain a constant.\n",
       "[2] Standard Errors assume that the covariance matrix of the errors is correctly specified.\n",
       "\"\"\""
      ]
     },
     "execution_count": 32,
     "metadata": {},
     "output_type": "execute_result"
    }
   ],
   "source": [
    "platoon_all_CO2_ = pd.DataFrame(platoon_all_CO2, columns = ['RW_LA', 'LA_PS'])\n",
    "pd.DataFrame(platoon_all_CO2, columns = ['RW_LA', 'LA_PS']).to_csv('CO2_platoon.csv', index=False)\n",
    "\n",
    "all_X = []\n",
    "all_y = []\n",
    "\n",
    "for k in range(len(vlist)):\n",
    "    feats = []\n",
    "    v = vlist[k]\n",
    "    infrast = v.idxmin(axis=1)\n",
    "    for i in range(len(v)):\n",
    "        if (v.iloc[i][str(infrast[i])] <80).any():\n",
    "            feats.append([infrast[i]])\n",
    "        else:\n",
    "            feats.append([])\n",
    "    new_v = pd.get_dummies(pd.DataFrame(feats), prefix='Feat')\n",
    "\n",
    "    X = new_v.copy()\n",
    "    y = platoon_all_CO2_[str(platoon_all_CO2_.columns[k])]\n",
    "    X['old_dist'] = dist_v[str(dist_v.columns[k])].shift(10).fillna(0)\n",
    "    all_X.append(X)\n",
    "    all_y.append(y)\n",
    "\n",
    "all_X_ = pd.concat(all_X).reset_index(drop=True).fillna(0)\n",
    "all_y_ = pd.concat(all_y).reset_index(drop=True).fillna(0)\n",
    "model = sm.OLS(y, X).fit()\n",
    "predictions = model.predict(X)\n",
    "model.summary()"
   ]
  },
  {
   "cell_type": "code",
   "execution_count": 33,
   "id": "4ccb31f3",
   "metadata": {},
   "outputs": [],
   "source": [
    "results_summary = model.summary()\n",
    "df = pd.DataFrame.from_records(results_summary.tables[1].data)\n",
    "header = df.iloc[0]\n",
    "df = df[1:] # take the data less the header row\n",
    "df.columns = header\n",
    "df.to_csv('platoon_II_14_09_09_36_CO2.csv')"
   ]
  },
  {
   "cell_type": "code",
   "execution_count": null,
   "id": "3941f3a9",
   "metadata": {},
   "outputs": [],
   "source": []
  }
 ],
 "metadata": {
  "kernelspec": {
   "display_name": "Python 3 (ipykernel)",
   "language": "python",
   "name": "python3"
  },
  "language_info": {
   "codemirror_mode": {
    "name": "ipython",
    "version": 3
   },
   "file_extension": ".py",
   "mimetype": "text/x-python",
   "name": "python",
   "nbconvert_exporter": "python",
   "pygments_lexer": "ipython3",
   "version": "3.10.9"
  }
 },
 "nbformat": 4,
 "nbformat_minor": 5
}
