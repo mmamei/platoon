{
 "cells": [
  {
   "cell_type": "markdown",
   "metadata": {},
   "source": [
    "## Useful references\n",
    "- OSMnx docs: https://osmnx.readthedocs.io/en/stable/\n",
    "- OSMnx examples: https://github.com/gboeing/osmnx-examples\n",
    "- Shapely manual: https://shapely.readthedocs.io/en/stable/manual.html\n",
    "- Folium docs: https://python-visualization.github.io/folium/index.html\n",
    "- Available markers icons: https://www.w3schools.com/bootstrap/bootstrap_ref_comp_glyphs.asp\n",
    "- Directed angle between vectors: https://it.mathworks.com/matlabcentral/answers/180131-how-can-i-find-the-angle-between-two-vectors-including-directional-information"
   ]
  },
  {
   "cell_type": "code",
   "execution_count": null,
   "metadata": {},
   "outputs": [],
   "source": [
    "import networkx as nx\n",
    "import osmnx as ox\n",
    "import numpy as np\n",
    "import pandas as pd\n",
    "import geopandas as gpd\n",
    "import folium\n",
    "from shapely.geometry import LineString\n",
    "from math import atan2, degrees\n",
    "\n",
    "ox.settings.log_console = True\n",
    "data_folder = \"../data/\""
   ]
  },
  {
   "cell_type": "code",
   "execution_count": null,
   "metadata": {},
   "outputs": [],
   "source": [
    "def marker_from_row(row: pd.Series, m: folium.Map, icon: str = \"info-sign\", color: str = \"blue\"):\n",
    "    \"\"\"\n",
    "    row: Series representing the POI to plot\n",
    "    m: folium map object\n",
    "    icon: icon name\n",
    "    color: marker color\n",
    "    \"\"\"\n",
    "    long, lat = row.geometry.x, row.geometry.y\n",
    "    folium.Marker(\n",
    "        location=[lat, long],\n",
    "        popup=row.to_string(),\n",
    "        icon=folium.Icon(icon=icon),\n",
    "        color=color\n",
    "    ).add_to(m)\n",
    "\n",
    "\n",
    "def plot_pois(m: folium.Map, pois: gpd.GeoDataFrame, icon: str = \"info-sign\", color: str = \"blue\") -> folium.Map:\n",
    "    \"\"\"\n",
    "    m: folium map object\n",
    "    pois: POIs GeoDataFrame\n",
    "    icon: icon name for markers\n",
    "    color: marker color\n",
    "    \"\"\"\n",
    "    pois.apply(lambda row: marker_from_row(row, m, icon, color), axis=1)\n",
    "    return m"
   ]
  },
  {
   "cell_type": "code",
   "execution_count": null,
   "metadata": {},
   "outputs": [],
   "source": [
    "place = 'Mantova, Italia'\n",
    "\n",
    "fname = place.split(',')[0].lower()\n",
    "\n",
    "boundaries_gdf = ox.geocode_to_gdf(place)\n",
    "boundaries_poly = boundaries_gdf.unary_union"
   ]
  },
  {
   "cell_type": "code",
   "execution_count": null,
   "metadata": {},
   "outputs": [],
   "source": [
    "graph = ox.graph_from_polygon(boundaries_poly, network_type='drive')\n",
    "graph = ox.add_edge_bearings(graph)\n",
    "graph = ox.add_edge_speeds(graph)\n",
    "graph = ox.add_edge_travel_times(graph)\n",
    "ox.save_graphml(graph, f\"{data_folder}{fname}_graph.graphml\")\n",
    "\n",
    "traffic_lights = ox.geometries_from_polygon(boundaries_poly, tags={'highway': 'traffic_signals'})\n",
    "traffic_lights.to_file(f\"{data_folder}{fname}_traffic-lights.geojson\")"
   ]
  },
  {
   "cell_type": "code",
   "execution_count": null,
   "metadata": {},
   "outputs": [],
   "source": [
    "graph = ox.load_graphml(f\"{data_folder}{fname}_graph.graphml\")\n",
    "traffic_lights = gpd.read_file(f\"{data_folder}{fname}_traffic-lights.geojson\")"
   ]
  },
  {
   "cell_type": "code",
   "execution_count": null,
   "metadata": {},
   "outputs": [],
   "source": [
    "nodes, edges = ox.graph_to_gdfs(graph)\n",
    "nodes['df_index'] = nodes.index\n",
    "edges['df_index'] = edges.index\n",
    "\n",
    "m = edges.explore(tiles=\"CartoDB positron\", popup=True, tooltip=False, color=\"grey\")\n",
    "m = nodes.explore(m=m, popup=True, tooltip=False, color=\"grey\")\n",
    "m = traffic_lights.explore(m=m, color=\"cyan\")\n",
    "# plot_pois(m, traffic_lights, \"option-vertical\")\n",
    "m"
   ]
  },
  {
   "cell_type": "code",
   "execution_count": null,
   "metadata": {},
   "outputs": [],
   "source": [
    "# Origin and destination nodes\n",
    "orig_node = 1818853340\n",
    "dest_node = 1313376786\n",
    "# Cost to minimize (pick from edge attributes)\n",
    "weight = 'length'\n",
    "\n",
    "path = ox.shortest_path(graph, orig_node, dest_node, weight, cpus=None)\n",
    "marker_from_row(row=nodes.loc[orig_node], m=m, icon=\"flag\", color=\"green\")\n",
    "marker_from_row(row=nodes.loc[dest_node], m=m, icon=\"screenshot\", color=\"red\")\n",
    "\n",
    "node_pairs = zip(path[:-1], path[1:])\n",
    "uvk = ((u, v, min(graph[u][v].items(), key=lambda k: k[1][\"length\"])[0]) for u, v in node_pairs)\n",
    "path_edges = ox.graph_to_gdfs(graph.subgraph(path), nodes=False).loc[uvk]\n",
    "\n",
    "path_edges[\"df_index\"] = path_edges.index\n",
    "m = path_edges.explore(m=m, popup=True, tooltip=False, color=\"blue\")\n",
    "m"
   ]
  },
  {
   "cell_type": "code",
   "execution_count": null,
   "metadata": {},
   "outputs": [],
   "source": [
    "left_turns = 0\n",
    "iterator = path_edges.itertuples()\n",
    "prev = next(iterator)\n",
    "prev_end = LineString(prev.geometry.coords[-2:])\n",
    "\n",
    "for curr in iterator:\n",
    "    u, v, _ = curr.Index\n",
    "    \n",
    "    if nodes.loc[u, 'street_count'] < 3:\n",
    "        continue\n",
    "        \n",
    "    curr_start = LineString(curr.geometry.coords[:2])\n",
    "        \n",
    "    folium.PolyLine(locations=[coord[::-1] for coord in prev_end.coords], color=\"red\").add_to(m)\n",
    "    folium.PolyLine(locations=[coord[::-1] for coord in curr_start.coords], color=\"green\").add_to(m)\n",
    "    \n",
    "    # angolo tra prev e curr compreso tra 45 e 135\n",
    "    x1 = prev_end.coords[1][0] - prev_end.coords[0][0]\n",
    "    y1 = prev_end.coords[1][1] - prev_end.coords[0][1]\n",
    "    x2 = curr_start.coords[1][0] - curr_start.coords[0][0]\n",
    "    y2 = curr_start.coords[1][1] - curr_start.coords[0][1]\n",
    "    theta = degrees(atan2(x1 * y2 - y1 * x2, x1 * x2 + y1 * y2))\n",
    "    \n",
    "    print(f\"Angle between edge {prev.osmid} and {curr.osmid}: {theta} degrees\")\n",
    "    \n",
    "    if 45 <= theta <= 135:\n",
    "        left_turns += 1\n",
    "        row = nodes.loc[u]\n",
    "        marker_from_row(row=row, m=m, icon=\"arrow-left\")\n",
    "    \n",
    "    prev = curr\n",
    "    prev_end = LineString(prev.geometry.coords[-2:])  \n",
    "    \n",
    "print(f\"Number of left turns: {left_turns}\")\n",
    "m  "
   ]
  },
  {
   "cell_type": "code",
   "execution_count": null,
   "metadata": {},
   "outputs": [],
   "source": [
    "n_paths = 100\n",
    "paths = ox.k_shortest_paths(graph, orig=orig_node, dest=dest_node, k=n_paths, weight=\"travel_time\")\n",
    "paths = list(paths)\n",
    "colors = ox.plot.get_colors(n=n_paths, cmap=\"rainbow\", return_hex=True)\n",
    "for path, color in zip(paths, colors):\n",
    "    m = ox.plot_route_folium(graph, route=path, route_map=m, color=color)"
   ]
  }
 ],
 "metadata": {
  "kernelspec": {
   "display_name": "Python 3 (ipykernel)",
   "language": "python",
   "name": "python3"
  },
  "language_info": {
   "codemirror_mode": {
    "name": "ipython",
    "version": 3
   },
   "file_extension": ".py",
   "mimetype": "text/x-python",
   "name": "python",
   "nbconvert_exporter": "python",
   "pygments_lexer": "ipython3",
   "version": "3.10.9"
  },
  "vscode": {
   "interpreter": {
    "hash": "0701c2d6d47d34aa900a418c94dbe0a139c3c9f227df375bbf5facbcc2269213"
   }
  }
 },
 "nbformat": 4,
 "nbformat_minor": 2
}
