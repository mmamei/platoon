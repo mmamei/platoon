{
 "cells": [
  {
   "cell_type": "code",
   "execution_count": 1,
   "id": "british-forestry",
   "metadata": {},
   "outputs": [],
   "source": [
    "import pandas as pd\n",
    "import numpy as np\n",
    "from scipy import spatial\n",
    "import geopandas as gpd\n",
    "from shapely.geometry import Point, LineString, Polygon\n",
    "import fiona\n",
    "import statistics\n",
    "import contextily as cx"
   ]
  },
  {
   "cell_type": "code",
   "execution_count": 2,
   "id": "34ab7afc",
   "metadata": {},
   "outputs": [],
   "source": [
    "mypath = '/home/selihadji/Documenti/papers/Platoon_II/trips/'"
   ]
  },
  {
   "cell_type": "code",
   "execution_count": 3,
   "id": "a2b300a1",
   "metadata": {},
   "outputs": [],
   "source": [
    "from os import listdir\n",
    "from os.path import isfile, join\n",
    "onlyfiles = [f for f in listdir(mypath) if isfile(join(mypath, f))]"
   ]
  },
  {
   "cell_type": "code",
   "execution_count": 4,
   "id": "de8a4275",
   "metadata": {},
   "outputs": [
    {
     "data": {
      "text/plain": [
       "['2022_09_13_RW2 Logi Jeep_11_51_12_09_cf3936bd-87cc-4ff8-8442-8e11888512ce.csv',\n",
       " '2022_09_13_PS Skylark Test_11_51_12_12_dc18ac87-773d-4df8-8940-6242e327d7a3.csv',\n",
       " '2022_09_13_LA2 Logi Jeep_11_51_12_09_17b1d6dd-ed86-4d89-b2e0-9a84af6e8794.csv']"
      ]
     },
     "execution_count": 4,
     "metadata": {},
     "output_type": "execute_result"
    }
   ],
   "source": [
    "def filterSubstr(lists, substr):\n",
    "    return [x for x in lists if substr in x]\n",
    "\n",
    "searchString = '11_51_12'\n",
    "onlyfiles = filterSubstr(onlyfiles, searchString)\n",
    "onlyfiles"
   ]
  },
  {
   "cell_type": "code",
   "execution_count": 5,
   "id": "df1115d7",
   "metadata": {},
   "outputs": [],
   "source": [
    "allfiles = []\n",
    "for i in range(len(onlyfiles)):\n",
    "    df = pd.read_csv(mypath + str(onlyfiles[i]), sep=';', decimal=',')\n",
    "    df['Time[ms]'] = pd.to_datetime(df['Time[ms]'], unit='ms')\n",
    "    df['driver'] = str(onlyfiles[i])[11:13]\n",
    "    coord_ = [Point(x, y) for x, y in zip(df.Longitude, df.Latitude)]\n",
    "    alldata_ = gpd.GeoDataFrame(df, geometry=coord_, crs =\"EPSG:4326\")\n",
    "    allfiles.append(df)\n",
    "alldata = pd.concat(allfiles, axis=0).reset_index(drop=True)"
   ]
  },
  {
   "cell_type": "code",
   "execution_count": 6,
   "id": "5889a45a",
   "metadata": {},
   "outputs": [],
   "source": [
    "alldata['data'] = alldata['Time[ms]'].dt.date"
   ]
  },
  {
   "cell_type": "code",
   "execution_count": 7,
   "id": "597bf289",
   "metadata": {},
   "outputs": [],
   "source": [
    "alldata[\"data\"] = pd.to_datetime(alldata[\"data\"])"
   ]
  },
  {
   "cell_type": "code",
   "execution_count": 8,
   "id": "2a678f7f",
   "metadata": {},
   "outputs": [],
   "source": [
    "alldata_RW = alldata[alldata.driver == 'RW']\n",
    "alldata_PS = alldata[alldata.driver == 'PS']\n",
    "alldata_LA = alldata[alldata.driver == 'LA']"
   ]
  },
  {
   "cell_type": "code",
   "execution_count": 9,
   "id": "d17c82c0",
   "metadata": {},
   "outputs": [],
   "source": [
    "allfiles = []\n",
    "for i in range(len(onlyfiles)):\n",
    "    df = pd.read_csv(mypath + str(onlyfiles[i]), sep=';', decimal=',')\n",
    "    df['Time[ms]'] = pd.to_datetime(df['Time[ms]'], unit='ms')\n",
    "    df['driver'] = str(onlyfiles[i])[11:13]\n",
    "    coord_ = [Point(x, y) for x, y in zip(df.Longitude, df.Latitude)]\n",
    "    alldata_ = gpd.GeoDataFrame(df, geometry=coord_, crs =\"EPSG:4326\")\n",
    "    allfiles.append(df)"
   ]
  },
  {
   "cell_type": "code",
   "execution_count": 10,
   "id": "97072dc1",
   "metadata": {},
   "outputs": [],
   "source": [
    "alldata = pd.concat(allfiles, axis=0).reset_index(drop=True)"
   ]
  },
  {
   "cell_type": "code",
   "execution_count": 11,
   "id": "9283854b",
   "metadata": {},
   "outputs": [
    {
     "data": {
      "text/plain": [
       "array(['RW', 'PS', 'LA'], dtype=object)"
      ]
     },
     "execution_count": 11,
     "metadata": {},
     "output_type": "execute_result"
    }
   ],
   "source": [
    "alldata.driver.unique()"
   ]
  },
  {
   "cell_type": "code",
   "execution_count": 12,
   "id": "chemical-pharmaceutical",
   "metadata": {},
   "outputs": [],
   "source": [
    "alldata_SORTED = alldata.sort_values(by = 'Time[ms]').reset_index(drop=True)"
   ]
  },
  {
   "cell_type": "code",
   "execution_count": 13,
   "id": "0d237b18",
   "metadata": {},
   "outputs": [],
   "source": [
    "alldata_SORTED_cut = alldata_SORTED.iloc[10:2780].dropna().reset_index(drop=True)"
   ]
  },
  {
   "cell_type": "code",
   "execution_count": 14,
   "id": "763e0232",
   "metadata": {},
   "outputs": [],
   "source": [
    "alldata_SORTED_cut['Time'] = pd.to_datetime(alldata_SORTED_cut['Time[ms]'].dt.strftime('%H:%M:%S'))"
   ]
  },
  {
   "cell_type": "code",
   "execution_count": 15,
   "id": "spectacular-contest",
   "metadata": {},
   "outputs": [],
   "source": [
    "rw = alldata_SORTED_cut[alldata_SORTED_cut.driver == 'RW'].reset_index(drop=True).drop_duplicates()\n",
    "la = alldata_SORTED_cut[alldata_SORTED_cut.driver == 'LA'].reset_index(drop=True).drop_duplicates()\n",
    "ps = alldata_SORTED_cut[alldata_SORTED_cut.driver == 'PS'].reset_index(drop=True).drop_duplicates()"
   ]
  },
  {
   "cell_type": "code",
   "execution_count": 16,
   "id": "indoor-netherlands",
   "metadata": {},
   "outputs": [],
   "source": [
    "from haversine import haversine, Unit\n",
    "import haversine as hs"
   ]
  },
  {
   "cell_type": "code",
   "execution_count": 17,
   "id": "ea0110ca",
   "metadata": {},
   "outputs": [],
   "source": [
    "platoon_alldist = []\n",
    "platoon_all_CO2 = []\n",
    "\n",
    "platoon_all_lat_dist = []\n",
    "platoon_all_lon_dist = []\n",
    "\n",
    "platoon_all_lat_CO2 = []\n",
    "platoon_all_lon_CO2 = []\n",
    "\n",
    "#ps --> rw\n",
    "#jc --> la\n",
    "#dw --> ps\n",
    "\n",
    "\n",
    "for i in range(len(rw)):\n",
    "    platoon_lat_dist = []\n",
    "    platoon_lon_dist = []\n",
    "    platoon_lat_CO2 = []\n",
    "    platoon_lon_CO2 = []\n",
    "    platoon_dist = []\n",
    "    CO2_max = []\n",
    "    dist_mat = []\n",
    "    \n",
    "    rw_ = rw.iloc[i]\n",
    "    \n",
    "    df_array1 = (rw_.Latitude, rw_.Longitude)\n",
    "\n",
    "    la_ = la[la['Time'] > rw_['Time']].reset_index(drop=True)\n",
    "    df_array2 = list(zip(la_.Latitude, la_.Longitude))[0:60]\n",
    "        \n",
    "    for j in range(len(df_array2)):\n",
    "        dist_mat.append(hs.haversine(df_array1,df_array2[j],unit=Unit.METERS))\n",
    "\n",
    "    la_mindist = min(dist_mat)\n",
    "    la_mindist_index = dist_mat.index(la_mindist)\n",
    "\n",
    "    platoon_dist.append(la_mindist)\n",
    "\n",
    "    platoon_lat_dist.append(la_.iloc[la_mindist_index][\"Latitude\"])\n",
    "    platoon_lon_dist.append(la_.iloc[la_mindist_index][\"Longitude\"])\n",
    "\n",
    "    CO2 = []\n",
    "    CO2.append(la_.iloc[0]['CO2[kg]'])\n",
    "    try:\n",
    "        CO2.extend(list(la_.iloc[1:21]['CO2[kg]']))\n",
    "    except:\n",
    "        pass\n",
    "    \n",
    "    la_maxCO2 = max(CO2)\n",
    "    la_maxCO2_index = CO2.index(la_maxCO2)\n",
    "    CO2_max.append(la_.reset_index(drop=True).iloc[la_maxCO2_index]['CO2[kg]'])\n",
    "    platoon_lat_CO2.append(la_.reset_index(drop=True).iloc[la_maxCO2_index][\"Latitude\"])\n",
    "    platoon_lon_CO2.append(la_.reset_index(drop=True).iloc[la_maxCO2_index][\"Longitude\"])    \n",
    "\n",
    "\n",
    "    ps_ = ps[ps['Time'] > la_['Time'][la_mindist_index]].reset_index(drop=True)\n",
    "    df_array3 = list(zip(ps_.Latitude, ps_.Longitude))[0:60]        \n",
    "    \n",
    "    dist_mat = []\n",
    "\n",
    "    for j in range(len(df_array3)):\n",
    "        dist_mat.append(hs.haversine(df_array2[la_mindist_index],df_array3[j],unit=Unit.METERS))\n",
    "\n",
    "    ps_mindist = min(dist_mat)\n",
    "    ps_mindist_index = dist_mat.index(ps_mindist)\n",
    "\n",
    "    platoon_dist.append(ps_mindist)\n",
    "    platoon_lat_dist.append(ps_.reset_index(drop=True).iloc[ps_mindist_index][\"Latitude\"])\n",
    "    platoon_lon_dist.append(ps_.reset_index(drop=True).iloc[ps_mindist_index][\"Longitude\"])    \n",
    "\n",
    "    CO2 = []\n",
    "\n",
    "    CO2.append(ps_.iloc[0]['CO2[kg]'])\n",
    "    try:\n",
    "        CO2.extend(list(ps_.iloc[1:21]['CO2[kg]']))\n",
    "    except:\n",
    "        pass\n",
    "    ps_maxCO2 = max(CO2)\n",
    "    ps_maxCO2_index = CO2.index(ps_maxCO2)\n",
    "    CO2_max.append(ps_.reset_index(drop=True).iloc[ps_maxCO2_index]['CO2[kg]'])\n",
    "    platoon_lat_CO2.append(ps_.reset_index(drop=True).iloc[ps_maxCO2_index][\"Latitude\"])\n",
    "    platoon_lon_CO2.append(ps_.reset_index(drop=True).iloc[ps_maxCO2_index][\"Longitude\"])  \n",
    "\n",
    "      \n",
    "    platoon_all_lat_dist.append(platoon_lat_dist)\n",
    "    platoon_all_lon_dist.append(platoon_lon_dist)\n",
    "    platoon_all_lat_CO2.append(platoon_lat_CO2)\n",
    "    platoon_all_lon_CO2.append(platoon_lon_CO2)\n",
    "    platoon_alldist.append(platoon_dist)\n",
    "    platoon_all_CO2.append(CO2_max)"
   ]
  },
  {
   "cell_type": "code",
   "execution_count": 18,
   "id": "f6452b64",
   "metadata": {},
   "outputs": [
    {
     "data": {
      "text/plain": [
       "<Axes: >"
      ]
     },
     "execution_count": 18,
     "metadata": {},
     "output_type": "execute_result"
    },
    {
     "data": {
      "image/png": "[encoded data removed]",
      "text/plain": [
       "<Figure size 3000x1000 with 1 Axes>"
      ]
     },
     "metadata": {},
     "output_type": "display_data"
    }
   ],
   "source": [
    "pd.DataFrame(platoon_alldist, columns = ['RW_LA', 'LA_PS']).plot(figsize=(30,10))"
   ]
  },
  {
   "cell_type": "code",
   "execution_count": 19,
   "id": "2fa45b2e",
   "metadata": {},
   "outputs": [],
   "source": [
    "dist_v = pd.DataFrame(platoon_alldist, columns = ['RW_LA', 'LA_PS'])\n",
    "pd.DataFrame(platoon_alldist, columns = ['RW_LA', 'LA_PS']).to_csv('distance_platoon.csv', index=False)"
   ]
  },
  {
   "cell_type": "code",
   "execution_count": 20,
   "id": "06f8dfd8",
   "metadata": {},
   "outputs": [],
   "source": [
    "dist_coord = pd.concat([pd.DataFrame(platoon_all_lat_dist, columns=['v1_lat', 'v2_lat'])['v1_lat'], pd.DataFrame(platoon_all_lon_dist, columns=['v1_lon', 'v2_lon'])['v1_lon'],pd.DataFrame(platoon_all_lat_dist, columns=['v1_lat', 'v2_lat'])['v2_lat'], pd.DataFrame(platoon_all_lon_dist, columns=['v1_lon', 'v2_lon'])['v2_lon']], axis=1)"
   ]
  },
  {
   "cell_type": "code",
   "execution_count": 21,
   "id": "213d99d1",
   "metadata": {},
   "outputs": [],
   "source": [
    "pd.concat([pd.DataFrame(platoon_all_lat_dist, columns=['v1_lat', 'v2_lat'])['v1_lat'], pd.DataFrame(platoon_all_lon_dist, columns=['v1_lon', 'v2_lon'])['v1_lon'],pd.DataFrame(platoon_all_lat_dist, columns=['v1_lat', 'v2_lat'])['v2_lat'], pd.DataFrame(platoon_all_lon_dist, columns=['v1_lon', 'v2_lon'])['v2_lon']], axis=1).to_csv('platoon_distances_coord.csv', index=False)"
   ]
  },
  {
   "cell_type": "code",
   "execution_count": 22,
   "id": "4fd127f9",
   "metadata": {},
   "outputs": [
    {
     "data": {
      "text/plain": [
       "array(['Turn_left', '4-ways intersection', 'Traffic_light', 'Curve',\n",
       "       'Road_immission', 'Turn_right'], dtype=object)"
      ]
     },
     "execution_count": 22,
     "metadata": {},
     "output_type": "execute_result"
    }
   ],
   "source": [
    "infr = pd.read_csv('/home/selihadji/Documenti/papers/Platoon_II/infrast_data_update_.csv', sep=';')\n",
    "infr.what.unique()"
   ]
  },
  {
   "cell_type": "code",
   "execution_count": 23,
   "id": "4f69766c",
   "metadata": {},
   "outputs": [],
   "source": [
    "allveic = []\n",
    "for k in range(0, len(dist_coord.columns)-1, 2):\n",
    "    veic = []\n",
    "    for i in range(len(dist_coord)):\n",
    "        infra = []\n",
    "        for j in range(len(infr)):\n",
    "            inf = (infr.iloc[j].lon,infr.iloc[j].lat)\n",
    "            distcoor = (dist_coord.iloc[i][str(dist_coord.columns[k+1])], dist_coord.iloc[i][str(dist_coord.columns[k])])\n",
    "            infra.append(hs.haversine(inf,distcoor,unit=Unit.METERS))\n",
    "        veic.append(infra)\n",
    "    allveic.append(veic)"
   ]
  },
  {
   "cell_type": "code",
   "execution_count": 24,
   "id": "42e4f8a2",
   "metadata": {},
   "outputs": [],
   "source": [
    "v1 = pd.DataFrame(allveic[0])\n",
    "v2 = pd.DataFrame(allveic[1])"
   ]
  },
  {
   "cell_type": "code",
   "execution_count": 25,
   "id": "cf55385b",
   "metadata": {},
   "outputs": [],
   "source": [
    "allfeat = []\n",
    "for i in range(len(v1)): \n",
    "    allfeat.append(list(v1[v1<500].iloc[i].dropna()))\n",
    "new_v1 = pd.DataFrame(allfeat).iloc[:,0:7].fillna(0)"
   ]
  },
  {
   "cell_type": "code",
   "execution_count": 26,
   "id": "62c8543f",
   "metadata": {},
   "outputs": [],
   "source": [
    "allfeat = []\n",
    "for i in range(len(v2)): \n",
    "    allfeat.append(list(v2[v2<500].iloc[i].dropna()))\n",
    "new_v2 = pd.DataFrame(allfeat).iloc[:,0:7].fillna(0)"
   ]
  },
  {
   "cell_type": "code",
   "execution_count": 27,
   "id": "1fd2dcd1",
   "metadata": {},
   "outputs": [],
   "source": [
    "v1.columns = infr.what\n",
    "v2.columns = infr.what"
   ]
  },
  {
   "cell_type": "code",
   "execution_count": 28,
   "id": "67a274c3",
   "metadata": {},
   "outputs": [],
   "source": [
    "vlist = []\n",
    "vlist.append(v1)\n",
    "vlist.append(v2)"
   ]
  },
  {
   "cell_type": "code",
   "execution_count": 29,
   "id": "4e8bbf9a",
   "metadata": {},
   "outputs": [],
   "source": [
    "import statsmodels.api as sm"
   ]
  },
  {
   "cell_type": "code",
   "execution_count": 30,
   "id": "63533edb",
   "metadata": {},
   "outputs": [
    {
     "data": {
      "text/html": [
       "<table class=\"simpletable\">\n",
       "<caption>OLS Regression Results</caption>\n",
       "<tr>\n",
       "  <th>Dep. Variable:</th>          <td>LA_PS</td>      <th>  R-squared (uncentered):</th>      <td>   0.882</td>\n",
       "</tr>\n",
       "<tr>\n",
       "  <th>Model:</th>                   <td>OLS</td>       <th>  Adj. R-squared (uncentered):</th> <td>   0.881</td>\n",
       "</tr>\n",
       "<tr>\n",
       "  <th>Method:</th>             <td>Least Squares</td>  <th>  F-statistic:       </th>          <td>   916.8</td>\n",
       "</tr>\n",
       "<tr>\n",
       "  <th>Date:</th>             <td>Tue, 01 Aug 2023</td> <th>  Prob (F-statistic):</th>           <td>  0.00</td> \n",
       "</tr>\n",
       "<tr>\n",
       "  <th>Time:</th>                 <td>09:00:58</td>     <th>  Log-Likelihood:    </th>          <td> -4577.6</td>\n",
       "</tr>\n",
       "<tr>\n",
       "  <th>No. Observations:</th>      <td>   863</td>      <th>  AIC:               </th>          <td>   9169.</td>\n",
       "</tr>\n",
       "<tr>\n",
       "  <th>Df Residuals:</th>          <td>   856</td>      <th>  BIC:               </th>          <td>   9203.</td>\n",
       "</tr>\n",
       "<tr>\n",
       "  <th>Df Model:</th>              <td>     7</td>      <th>                     </th>              <td> </td>   \n",
       "</tr>\n",
       "<tr>\n",
       "  <th>Covariance Type:</th>      <td>nonrobust</td>    <th>                     </th>              <td> </td>   \n",
       "</tr>\n",
       "</table>\n",
       "<table class=\"simpletable\">\n",
       "<tr>\n",
       "              <td></td>                <th>coef</th>     <th>std err</th>      <th>t</th>      <th>P>|t|</th>  <th>[0.025</th>    <th>0.975]</th>  \n",
       "</tr>\n",
       "<tr>\n",
       "  <th>Feat_4-ways intersection</th> <td>   23.1989</td> <td>   13.110</td> <td>    1.769</td> <td> 0.077</td> <td>   -2.534</td> <td>   48.931</td>\n",
       "</tr>\n",
       "<tr>\n",
       "  <th>Feat_Curve</th>               <td>   -6.1733</td> <td>    6.694</td> <td>   -0.922</td> <td> 0.357</td> <td>  -19.312</td> <td>    6.965</td>\n",
       "</tr>\n",
       "<tr>\n",
       "  <th>Feat_Road_immission</th>      <td>  -43.1598</td> <td>    7.676</td> <td>   -5.622</td> <td> 0.000</td> <td>  -58.227</td> <td>  -28.093</td>\n",
       "</tr>\n",
       "<tr>\n",
       "  <th>Feat_Traffic_light</th>       <td>   15.6681</td> <td>    2.580</td> <td>    6.072</td> <td> 0.000</td> <td>   10.604</td> <td>   20.733</td>\n",
       "</tr>\n",
       "<tr>\n",
       "  <th>Feat_Turn_left</th>           <td>    0.2877</td> <td>   10.668</td> <td>    0.027</td> <td> 0.978</td> <td>  -20.652</td> <td>   21.227</td>\n",
       "</tr>\n",
       "<tr>\n",
       "  <th>Feat_Turn_right</th>          <td>   12.5950</td> <td>    5.676</td> <td>    2.219</td> <td> 0.027</td> <td>    1.454</td> <td>   23.735</td>\n",
       "</tr>\n",
       "<tr>\n",
       "  <th>old_dist</th>                 <td>    0.9927</td> <td>    0.016</td> <td>   63.467</td> <td> 0.000</td> <td>    0.962</td> <td>    1.023</td>\n",
       "</tr>\n",
       "</table>\n",
       "<table class=\"simpletable\">\n",
       "<tr>\n",
       "  <th>Omnibus:</th>       <td>203.175</td> <th>  Durbin-Watson:     </th> <td>   0.104</td> \n",
       "</tr>\n",
       "<tr>\n",
       "  <th>Prob(Omnibus):</th> <td> 0.000</td>  <th>  Jarque-Bera (JB):  </th> <td> 693.995</td> \n",
       "</tr>\n",
       "<tr>\n",
       "  <th>Skew:</th>          <td>-1.107</td>  <th>  Prob(JB):          </th> <td>2.00e-151</td>\n",
       "</tr>\n",
       "<tr>\n",
       "  <th>Kurtosis:</th>      <td> 6.794</td>  <th>  Cond. No.          </th> <td>1.01e+03</td> \n",
       "</tr>\n",
       "</table><br/><br/>Notes:<br/>[1] R² is computed without centering (uncentered) since the model does not contain a constant.<br/>[2] Standard Errors assume that the covariance matrix of the errors is correctly specified.<br/>[3] The condition number is large, 1.01e+03. This might indicate that there are<br/>strong multicollinearity or other numerical problems."
      ],
      "text/latex": [
       "\\begin{center}\n",
       "\\begin{tabular}{lclc}\n",
       "\\toprule\n",
       "\\textbf{Dep. Variable:}            &      LA\\_PS      & \\textbf{  R-squared (uncentered):}      &     0.882   \\\\\n",
       "\\textbf{Model:}                    &       OLS        & \\textbf{  Adj. R-squared (uncentered):} &     0.881   \\\\\n",
       "\\textbf{Method:}                   &  Least Squares   & \\textbf{  F-statistic:       }          &     916.8   \\\\\n",
       "\\textbf{Date:}                     & Tue, 01 Aug 2023 & \\textbf{  Prob (F-statistic):}          &     0.00    \\\\\n",
       "\\textbf{Time:}                     &     09:00:58     & \\textbf{  Log-Likelihood:    }          &   -4577.6   \\\\\n",
       "\\textbf{No. Observations:}         &         863      & \\textbf{  AIC:               }          &     9169.   \\\\\n",
       "\\textbf{Df Residuals:}             &         856      & \\textbf{  BIC:               }          &     9203.   \\\\\n",
       "\\textbf{Df Model:}                 &           7      & \\textbf{                     }          &             \\\\\n",
       "\\textbf{Covariance Type:}          &    nonrobust     & \\textbf{                     }          &             \\\\\n",
       "\\bottomrule\n",
       "\\end{tabular}\n",
       "\\begin{tabular}{lcccccc}\n",
       "                                   & \\textbf{coef} & \\textbf{std err} & \\textbf{t} & \\textbf{P$> |$t$|$} & \\textbf{[0.025} & \\textbf{0.975]}  \\\\\n",
       "\\midrule\n",
       "\\textbf{Feat\\_4-ways intersection} &      23.1989  &       13.110     &     1.769  &         0.077        &       -2.534    &       48.931     \\\\\n",
       "\\textbf{Feat\\_Curve}               &      -6.1733  &        6.694     &    -0.922  &         0.357        &      -19.312    &        6.965     \\\\\n",
       "\\textbf{Feat\\_Road\\_immission}     &     -43.1598  &        7.676     &    -5.622  &         0.000        &      -58.227    &      -28.093     \\\\\n",
       "\\textbf{Feat\\_Traffic\\_light}      &      15.6681  &        2.580     &     6.072  &         0.000        &       10.604    &       20.733     \\\\\n",
       "\\textbf{Feat\\_Turn\\_left}          &       0.2877  &       10.668     &     0.027  &         0.978        &      -20.652    &       21.227     \\\\\n",
       "\\textbf{Feat\\_Turn\\_right}         &      12.5950  &        5.676     &     2.219  &         0.027        &        1.454    &       23.735     \\\\\n",
       "\\textbf{old\\_dist}                 &       0.9927  &        0.016     &    63.467  &         0.000        &        0.962    &        1.023     \\\\\n",
       "\\bottomrule\n",
       "\\end{tabular}\n",
       "\\begin{tabular}{lclc}\n",
       "\\textbf{Omnibus:}       & 203.175 & \\textbf{  Durbin-Watson:     } &     0.104  \\\\\n",
       "\\textbf{Prob(Omnibus):} &   0.000 & \\textbf{  Jarque-Bera (JB):  } &   693.995  \\\\\n",
       "\\textbf{Skew:}          &  -1.107 & \\textbf{  Prob(JB):          } & 2.00e-151  \\\\\n",
       "\\textbf{Kurtosis:}      &   6.794 & \\textbf{  Cond. No.          } &  1.01e+03  \\\\\n",
       "\\bottomrule\n",
       "\\end{tabular}\n",
       "%\\caption{OLS Regression Results}\n",
       "\\end{center}\n",
       "\n",
       "Notes: \\newline\n",
       " [1] R² is computed without centering (uncentered) since the model does not contain a constant. \\newline\n",
       " [2] Standard Errors assume that the covariance matrix of the errors is correctly specified. \\newline\n",
       " [3] The condition number is large, 1.01e+03. This might indicate that there are \\newline\n",
       " strong multicollinearity or other numerical problems."
      ],
      "text/plain": [
       "<class 'statsmodels.iolib.summary.Summary'>\n",
       "\"\"\"\n",
       "                                 OLS Regression Results                                \n",
       "=======================================================================================\n",
       "Dep. Variable:                  LA_PS   R-squared (uncentered):                   0.882\n",
       "Model:                            OLS   Adj. R-squared (uncentered):              0.881\n",
       "Method:                 Least Squares   F-statistic:                              916.8\n",
       "Date:                Tue, 01 Aug 2023   Prob (F-statistic):                        0.00\n",
       "Time:                        09:00:58   Log-Likelihood:                         -4577.6\n",
       "No. Observations:                 863   AIC:                                      9169.\n",
       "Df Residuals:                     856   BIC:                                      9203.\n",
       "Df Model:                           7                                                  \n",
       "Covariance Type:            nonrobust                                                  \n",
       "============================================================================================\n",
       "                               coef    std err          t      P>|t|      [0.025      0.975]\n",
       "--------------------------------------------------------------------------------------------\n",
       "Feat_4-ways intersection    23.1989     13.110      1.769      0.077      -2.534      48.931\n",
       "Feat_Curve                  -6.1733      6.694     -0.922      0.357     -19.312       6.965\n",
       "Feat_Road_immission        -43.1598      7.676     -5.622      0.000     -58.227     -28.093\n",
       "Feat_Traffic_light          15.6681      2.580      6.072      0.000      10.604      20.733\n",
       "Feat_Turn_left               0.2877     10.668      0.027      0.978     -20.652      21.227\n",
       "Feat_Turn_right             12.5950      5.676      2.219      0.027       1.454      23.735\n",
       "old_dist                     0.9927      0.016     63.467      0.000       0.962       1.023\n",
       "==============================================================================\n",
       "Omnibus:                      203.175   Durbin-Watson:                   0.104\n",
       "Prob(Omnibus):                  0.000   Jarque-Bera (JB):              693.995\n",
       "Skew:                          -1.107   Prob(JB):                    2.00e-151\n",
       "Kurtosis:                       6.794   Cond. No.                     1.01e+03\n",
       "==============================================================================\n",
       "\n",
       "Notes:\n",
       "[1] R² is computed without centering (uncentered) since the model does not contain a constant.\n",
       "[2] Standard Errors assume that the covariance matrix of the errors is correctly specified.\n",
       "[3] The condition number is large, 1.01e+03. This might indicate that there are\n",
       "strong multicollinearity or other numerical problems.\n",
       "\"\"\""
      ]
     },
     "execution_count": 30,
     "metadata": {},
     "output_type": "execute_result"
    }
   ],
   "source": [
    "all_X = []\n",
    "all_y = []\n",
    "\n",
    "for k in range(len(vlist)):\n",
    "    feats = []\n",
    "    v = vlist[k]\n",
    "    infrast = v.idxmin(axis=1)\n",
    "    for i in range(len(v)):\n",
    "        if (v.iloc[i][str(infrast[i])] < 80).any():\n",
    "            feats.append([infrast[i]])\n",
    "        else:\n",
    "            feats.append([])\n",
    "    new_v = pd.get_dummies(pd.DataFrame(feats), prefix='Feat')\n",
    "\n",
    "    X = new_v.copy()\n",
    "    y = dist_v[str(dist_v.columns[k])]\n",
    "    X['old_dist'] = dist_v[str(dist_v.columns[k])].shift(10).fillna(0)\n",
    "    all_X.append(X)\n",
    "    all_y.append(y)\n",
    "\n",
    "all_X_ = pd.concat(all_X).reset_index(drop=True).fillna(0)\n",
    "all_y_ = pd.concat(all_y).reset_index(drop=True).fillna(0)\n",
    "model = sm.OLS(y, X).fit()\n",
    "predictions = model.predict(X)\n",
    "model.summary()"
   ]
  },
  {
   "cell_type": "code",
   "execution_count": 31,
   "id": "19b43460",
   "metadata": {},
   "outputs": [],
   "source": [
    "results_summary = model.summary()\n",
    "df = pd.DataFrame.from_records(results_summary.tables[1].data)\n",
    "header = df.iloc[0]\n",
    "df = df[1:] # take the data less the header row\n",
    "df.columns = header\n",
    "df.to_csv('platoon_II_13_09_11_51_12.csv')"
   ]
  },
  {
   "cell_type": "code",
   "execution_count": 32,
   "id": "5b8cdb7e",
   "metadata": {},
   "outputs": [
    {
     "data": {
      "text/html": [
       "<table class=\"simpletable\">\n",
       "<caption>OLS Regression Results</caption>\n",
       "<tr>\n",
       "  <th>Dep. Variable:</th>          <td>LA_PS</td>      <th>  R-squared (uncentered):</th>      <td>   0.588</td> \n",
       "</tr>\n",
       "<tr>\n",
       "  <th>Model:</th>                   <td>OLS</td>       <th>  Adj. R-squared (uncentered):</th> <td>   0.584</td> \n",
       "</tr>\n",
       "<tr>\n",
       "  <th>Method:</th>             <td>Least Squares</td>  <th>  F-statistic:       </th>          <td>   174.4</td> \n",
       "</tr>\n",
       "<tr>\n",
       "  <th>Date:</th>             <td>Tue, 01 Aug 2023</td> <th>  Prob (F-statistic):</th>          <td>5.56e-160</td>\n",
       "</tr>\n",
       "<tr>\n",
       "  <th>Time:</th>                 <td>09:00:59</td>     <th>  Log-Likelihood:    </th>          <td>  3672.6</td> \n",
       "</tr>\n",
       "<tr>\n",
       "  <th>No. Observations:</th>      <td>   863</td>      <th>  AIC:               </th>          <td>  -7331.</td> \n",
       "</tr>\n",
       "<tr>\n",
       "  <th>Df Residuals:</th>          <td>   856</td>      <th>  BIC:               </th>          <td>  -7298.</td> \n",
       "</tr>\n",
       "<tr>\n",
       "  <th>Df Model:</th>              <td>     7</td>      <th>                     </th>              <td> </td>    \n",
       "</tr>\n",
       "<tr>\n",
       "  <th>Covariance Type:</th>      <td>nonrobust</td>    <th>                     </th>              <td> </td>    \n",
       "</tr>\n",
       "</table>\n",
       "<table class=\"simpletable\">\n",
       "<tr>\n",
       "              <td></td>                <th>coef</th>     <th>std err</th>      <th>t</th>      <th>P>|t|</th>  <th>[0.025</th>    <th>0.975]</th>  \n",
       "</tr>\n",
       "<tr>\n",
       "  <th>Feat_4-ways intersection</th> <td>    0.0017</td> <td>    0.001</td> <td>    1.850</td> <td> 0.065</td> <td>   -0.000</td> <td>    0.004</td>\n",
       "</tr>\n",
       "<tr>\n",
       "  <th>Feat_Curve</th>               <td>    0.0042</td> <td>    0.000</td> <td>    8.994</td> <td> 0.000</td> <td>    0.003</td> <td>    0.005</td>\n",
       "</tr>\n",
       "<tr>\n",
       "  <th>Feat_Road_immission</th>      <td>    0.0038</td> <td>    0.001</td> <td>    7.011</td> <td> 0.000</td> <td>    0.003</td> <td>    0.005</td>\n",
       "</tr>\n",
       "<tr>\n",
       "  <th>Feat_Traffic_light</th>       <td>    0.0039</td> <td>    0.000</td> <td>   21.408</td> <td> 0.000</td> <td>    0.004</td> <td>    0.004</td>\n",
       "</tr>\n",
       "<tr>\n",
       "  <th>Feat_Turn_left</th>           <td>    0.0071</td> <td>    0.001</td> <td>    9.460</td> <td> 0.000</td> <td>    0.006</td> <td>    0.009</td>\n",
       "</tr>\n",
       "<tr>\n",
       "  <th>Feat_Turn_right</th>          <td>    0.0054</td> <td>    0.000</td> <td>   13.570</td> <td> 0.000</td> <td>    0.005</td> <td>    0.006</td>\n",
       "</tr>\n",
       "<tr>\n",
       "  <th>old_dist</th>                 <td> 4.405e-06</td> <td>  1.1e-06</td> <td>    3.995</td> <td> 0.000</td> <td> 2.24e-06</td> <td> 6.57e-06</td>\n",
       "</tr>\n",
       "</table>\n",
       "<table class=\"simpletable\">\n",
       "<tr>\n",
       "  <th>Omnibus:</th>       <td>24.994</td> <th>  Durbin-Watson:     </th> <td>   0.137</td>\n",
       "</tr>\n",
       "<tr>\n",
       "  <th>Prob(Omnibus):</th> <td> 0.000</td> <th>  Jarque-Bera (JB):  </th> <td>  26.618</td>\n",
       "</tr>\n",
       "<tr>\n",
       "  <th>Skew:</th>          <td> 0.423</td> <th>  Prob(JB):          </th> <td>1.66e-06</td>\n",
       "</tr>\n",
       "<tr>\n",
       "  <th>Kurtosis:</th>      <td> 2.842</td> <th>  Cond. No.          </th> <td>1.01e+03</td>\n",
       "</tr>\n",
       "</table><br/><br/>Notes:<br/>[1] R² is computed without centering (uncentered) since the model does not contain a constant.<br/>[2] Standard Errors assume that the covariance matrix of the errors is correctly specified.<br/>[3] The condition number is large, 1.01e+03. This might indicate that there are<br/>strong multicollinearity or other numerical problems."
      ],
      "text/latex": [
       "\\begin{center}\n",
       "\\begin{tabular}{lclc}\n",
       "\\toprule\n",
       "\\textbf{Dep. Variable:}            &      LA\\_PS      & \\textbf{  R-squared (uncentered):}      &     0.588   \\\\\n",
       "\\textbf{Model:}                    &       OLS        & \\textbf{  Adj. R-squared (uncentered):} &     0.584   \\\\\n",
       "\\textbf{Method:}                   &  Least Squares   & \\textbf{  F-statistic:       }          &     174.4   \\\\\n",
       "\\textbf{Date:}                     & Tue, 01 Aug 2023 & \\textbf{  Prob (F-statistic):}          & 5.56e-160   \\\\\n",
       "\\textbf{Time:}                     &     09:00:59     & \\textbf{  Log-Likelihood:    }          &    3672.6   \\\\\n",
       "\\textbf{No. Observations:}         &         863      & \\textbf{  AIC:               }          &    -7331.   \\\\\n",
       "\\textbf{Df Residuals:}             &         856      & \\textbf{  BIC:               }          &    -7298.   \\\\\n",
       "\\textbf{Df Model:}                 &           7      & \\textbf{                     }          &             \\\\\n",
       "\\textbf{Covariance Type:}          &    nonrobust     & \\textbf{                     }          &             \\\\\n",
       "\\bottomrule\n",
       "\\end{tabular}\n",
       "\\begin{tabular}{lcccccc}\n",
       "                                   & \\textbf{coef} & \\textbf{std err} & \\textbf{t} & \\textbf{P$> |$t$|$} & \\textbf{[0.025} & \\textbf{0.975]}  \\\\\n",
       "\\midrule\n",
       "\\textbf{Feat\\_4-ways intersection} &       0.0017  &        0.001     &     1.850  &         0.065        &       -0.000    &        0.004     \\\\\n",
       "\\textbf{Feat\\_Curve}               &       0.0042  &        0.000     &     8.994  &         0.000        &        0.003    &        0.005     \\\\\n",
       "\\textbf{Feat\\_Road\\_immission}     &       0.0038  &        0.001     &     7.011  &         0.000        &        0.003    &        0.005     \\\\\n",
       "\\textbf{Feat\\_Traffic\\_light}      &       0.0039  &        0.000     &    21.408  &         0.000        &        0.004    &        0.004     \\\\\n",
       "\\textbf{Feat\\_Turn\\_left}          &       0.0071  &        0.001     &     9.460  &         0.000        &        0.006    &        0.009     \\\\\n",
       "\\textbf{Feat\\_Turn\\_right}         &       0.0054  &        0.000     &    13.570  &         0.000        &        0.005    &        0.006     \\\\\n",
       "\\textbf{old\\_dist}                 &    4.405e-06  &      1.1e-06     &     3.995  &         0.000        &     2.24e-06    &     6.57e-06     \\\\\n",
       "\\bottomrule\n",
       "\\end{tabular}\n",
       "\\begin{tabular}{lclc}\n",
       "\\textbf{Omnibus:}       & 24.994 & \\textbf{  Durbin-Watson:     } &    0.137  \\\\\n",
       "\\textbf{Prob(Omnibus):} &  0.000 & \\textbf{  Jarque-Bera (JB):  } &   26.618  \\\\\n",
       "\\textbf{Skew:}          &  0.423 & \\textbf{  Prob(JB):          } & 1.66e-06  \\\\\n",
       "\\textbf{Kurtosis:}      &  2.842 & \\textbf{  Cond. No.          } & 1.01e+03  \\\\\n",
       "\\bottomrule\n",
       "\\end{tabular}\n",
       "%\\caption{OLS Regression Results}\n",
       "\\end{center}\n",
       "\n",
       "Notes: \\newline\n",
       " [1] R² is computed without centering (uncentered) since the model does not contain a constant. \\newline\n",
       " [2] Standard Errors assume that the covariance matrix of the errors is correctly specified. \\newline\n",
       " [3] The condition number is large, 1.01e+03. This might indicate that there are \\newline\n",
       " strong multicollinearity or other numerical problems."
      ],
      "text/plain": [
       "<class 'statsmodels.iolib.summary.Summary'>\n",
       "\"\"\"\n",
       "                                 OLS Regression Results                                \n",
       "=======================================================================================\n",
       "Dep. Variable:                  LA_PS   R-squared (uncentered):                   0.588\n",
       "Model:                            OLS   Adj. R-squared (uncentered):              0.584\n",
       "Method:                 Least Squares   F-statistic:                              174.4\n",
       "Date:                Tue, 01 Aug 2023   Prob (F-statistic):                   5.56e-160\n",
       "Time:                        09:00:59   Log-Likelihood:                          3672.6\n",
       "No. Observations:                 863   AIC:                                     -7331.\n",
       "Df Residuals:                     856   BIC:                                     -7298.\n",
       "Df Model:                           7                                                  \n",
       "Covariance Type:            nonrobust                                                  \n",
       "============================================================================================\n",
       "                               coef    std err          t      P>|t|      [0.025      0.975]\n",
       "--------------------------------------------------------------------------------------------\n",
       "Feat_4-ways intersection     0.0017      0.001      1.850      0.065      -0.000       0.004\n",
       "Feat_Curve                   0.0042      0.000      8.994      0.000       0.003       0.005\n",
       "Feat_Road_immission          0.0038      0.001      7.011      0.000       0.003       0.005\n",
       "Feat_Traffic_light           0.0039      0.000     21.408      0.000       0.004       0.004\n",
       "Feat_Turn_left               0.0071      0.001      9.460      0.000       0.006       0.009\n",
       "Feat_Turn_right              0.0054      0.000     13.570      0.000       0.005       0.006\n",
       "old_dist                  4.405e-06    1.1e-06      3.995      0.000    2.24e-06    6.57e-06\n",
       "==============================================================================\n",
       "Omnibus:                       24.994   Durbin-Watson:                   0.137\n",
       "Prob(Omnibus):                  0.000   Jarque-Bera (JB):               26.618\n",
       "Skew:                           0.423   Prob(JB):                     1.66e-06\n",
       "Kurtosis:                       2.842   Cond. No.                     1.01e+03\n",
       "==============================================================================\n",
       "\n",
       "Notes:\n",
       "[1] R² is computed without centering (uncentered) since the model does not contain a constant.\n",
       "[2] Standard Errors assume that the covariance matrix of the errors is correctly specified.\n",
       "[3] The condition number is large, 1.01e+03. This might indicate that there are\n",
       "strong multicollinearity or other numerical problems.\n",
       "\"\"\""
      ]
     },
     "execution_count": 32,
     "metadata": {},
     "output_type": "execute_result"
    }
   ],
   "source": [
    "platoon_all_CO2_ = pd.DataFrame(platoon_all_CO2, columns = ['RW_LA', 'LA_PS'])\n",
    "pd.DataFrame(platoon_all_CO2, columns = ['RW_LA', 'LA_PS']).to_csv('CO2_platoon.csv', index=False)\n",
    "\n",
    "all_X = []\n",
    "all_y = []\n",
    "\n",
    "for k in range(len(vlist)):\n",
    "    feats = []\n",
    "    v = vlist[k]\n",
    "    infrast = v.idxmin(axis=1)\n",
    "    for i in range(len(v)):\n",
    "        if (v.iloc[i][str(infrast[i])] <80).any():\n",
    "            feats.append([infrast[i]])\n",
    "        else:\n",
    "            feats.append([])\n",
    "    new_v = pd.get_dummies(pd.DataFrame(feats), prefix='Feat')\n",
    "\n",
    "    X = new_v.copy()\n",
    "    y = platoon_all_CO2_[str(platoon_all_CO2_.columns[k])]\n",
    "    X['old_dist'] = dist_v[str(dist_v.columns[k])].shift(10).fillna(0)\n",
    "    all_X.append(X)\n",
    "    all_y.append(y)\n",
    "\n",
    "all_X_ = pd.concat(all_X).reset_index(drop=True).fillna(0)\n",
    "all_y_ = pd.concat(all_y).reset_index(drop=True).fillna(0)\n",
    "model = sm.OLS(y, X).fit()\n",
    "predictions = model.predict(X)\n",
    "model.summary()"
   ]
  },
  {
   "cell_type": "code",
   "execution_count": 33,
   "id": "bed26ed6",
   "metadata": {},
   "outputs": [],
   "source": [
    "results_summary = model.summary()\n",
    "df = pd.DataFrame.from_records(results_summary.tables[1].data)\n",
    "header = df.iloc[0]\n",
    "df = df[1:] # take the data less the header row\n",
    "df.columns = header\n",
    "df.to_csv('platoon_II_13_09_11_51_12_CO2.csv')"
   ]
  },
  {
   "cell_type": "code",
   "execution_count": null,
   "id": "e80f948c",
   "metadata": {},
   "outputs": [],
   "source": []
  }
 ],
 "metadata": {
  "kernelspec": {
   "display_name": "Python 3 (ipykernel)",
   "language": "python",
   "name": "python3"
  },
  "language_info": {
   "codemirror_mode": {
    "name": "ipython",
    "version": 3
   },
   "file_extension": ".py",
   "mimetype": "text/x-python",
   "name": "python",
   "nbconvert_exporter": "python",
   "pygments_lexer": "ipython3",
   "version": "3.10.9"
  }
 },
 "nbformat": 4,
 "nbformat_minor": 5
}
