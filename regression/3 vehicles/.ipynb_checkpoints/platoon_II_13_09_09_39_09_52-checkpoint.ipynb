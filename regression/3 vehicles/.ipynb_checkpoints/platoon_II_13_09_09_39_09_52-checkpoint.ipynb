{
 "cells": [
  {
   "cell_type": "code",
   "execution_count": 1,
   "id": "british-forestry",
   "metadata": {},
   "outputs": [],
   "source": [
    "import pandas as pd\n",
    "import numpy as np\n",
    "from scipy import spatial\n",
    "import geopandas as gpd\n",
    "from shapely.geometry import Point, LineString, Polygon\n",
    "import fiona\n",
    "import statistics\n",
    "import contextily as cx"
   ]
  },
  {
   "cell_type": "code",
   "execution_count": 2,
   "id": "34ab7afc",
   "metadata": {},
   "outputs": [],
   "source": [
    "mypath = '../../data/3 vehicles/'"
   ]
  },
  {
   "cell_type": "code",
   "execution_count": 3,
   "id": "a2b300a1",
   "metadata": {},
   "outputs": [],
   "source": [
    "from os import listdir\n",
    "from os.path import isfile, join\n",
    "onlyfiles = [f for f in listdir(mypath) if isfile(join(mypath, f))]"
   ]
  },
  {
   "cell_type": "code",
   "execution_count": 4,
   "id": "de8a4275",
   "metadata": {},
   "outputs": [
    {
     "data": {
      "text/plain": [
       "['2022_09_13_LA2 Logi Jeep_09_35_09_52_45fae92d-20f9-4491-8a99-95bce6600f9a.csv',\n",
       " '2022_09_13_PS Skylark Test_09_39_09_52_68d2ae18-a20c-49b9-8411-ca1d19853cc7.csv',\n",
       " '2022_09_13_RW2 Logi Jeep_09_34_09_52_48add183-52e2-43e5-a72d-ea3f3e4bf696.csv']"
      ]
     },
     "execution_count": 4,
     "metadata": {},
     "output_type": "execute_result"
    }
   ],
   "source": [
    "def filterSubstr(lists, substr):\n",
    "    return [x for x in lists if substr in x]\n",
    "\n",
    "searchString = '2022_09_13'\n",
    "onlyfiles_13_09 = filterSubstr(onlyfiles, searchString)\n",
    "onlyfiles_13_09\n",
    "\n",
    "searchString = '_09_3'\n",
    "onlyfiles = filterSubstr(onlyfiles_13_09, searchString)\n",
    "onlyfiles"
   ]
  },
  {
   "cell_type": "code",
   "execution_count": 5,
   "id": "df1115d7",
   "metadata": {},
   "outputs": [],
   "source": [
    "allfiles = []\n",
    "for i in range(len(onlyfiles)):\n",
    "    df = pd.read_csv(mypath + str(onlyfiles[i]), sep=';', decimal=',')\n",
    "    df['Time[ms]'] = pd.to_datetime(df['Time[ms]'], unit='ms')\n",
    "    df['driver'] = str(onlyfiles[i])[11:13]\n",
    "    coord_ = [Point(x, y) for x, y in zip(df.Longitude, df.Latitude)]\n",
    "    alldata_ = gpd.GeoDataFrame(df, geometry=coord_, crs =\"EPSG:4326\")\n",
    "    allfiles.append(df)\n",
    "alldata = pd.concat(allfiles, axis=0).reset_index(drop=True)"
   ]
  },
  {
   "cell_type": "code",
   "execution_count": 6,
   "id": "5889a45a",
   "metadata": {},
   "outputs": [],
   "source": [
    "alldata['data'] = alldata['Time[ms]'].dt.date"
   ]
  },
  {
   "cell_type": "code",
   "execution_count": 7,
   "id": "597bf289",
   "metadata": {},
   "outputs": [],
   "source": [
    "alldata[\"data\"] = pd.to_datetime(alldata[\"data\"])"
   ]
  },
  {
   "cell_type": "code",
   "execution_count": 8,
   "id": "c427347e",
   "metadata": {},
   "outputs": [],
   "source": [
    "alldata_RW = alldata[alldata.driver == 'RW']\n",
    "alldata_PS = alldata[alldata.driver == 'PS']\n",
    "alldata_LA = alldata[alldata.driver == 'LA']"
   ]
  },
  {
   "cell_type": "code",
   "execution_count": 9,
   "id": "d17c82c0",
   "metadata": {},
   "outputs": [],
   "source": [
    "allfiles = []\n",
    "for i in range(len(onlyfiles)):\n",
    "    df = pd.read_csv(mypath + str(onlyfiles[i]), sep=';', decimal=',')\n",
    "    df['Time[ms]'] = pd.to_datetime(df['Time[ms]'], unit='ms')\n",
    "    df['driver'] = str(onlyfiles[i])[11:13]\n",
    "    coord_ = [Point(x, y) for x, y in zip(df.Longitude, df.Latitude)]\n",
    "    alldata_ = gpd.GeoDataFrame(df, geometry=coord_, crs =\"EPSG:4326\")\n",
    "    allfiles.append(df)"
   ]
  },
  {
   "cell_type": "code",
   "execution_count": 10,
   "id": "97072dc1",
   "metadata": {},
   "outputs": [],
   "source": [
    "alldata = pd.concat(allfiles, axis=0).reset_index(drop=True)"
   ]
  },
  {
   "cell_type": "code",
   "execution_count": 11,
   "id": "9283854b",
   "metadata": {},
   "outputs": [
    {
     "data": {
      "text/plain": [
       "array(['LA', 'PS', 'RW'], dtype=object)"
      ]
     },
     "execution_count": 11,
     "metadata": {},
     "output_type": "execute_result"
    }
   ],
   "source": [
    "alldata.driver.unique()"
   ]
  },
  {
   "cell_type": "code",
   "execution_count": 12,
   "id": "chemical-pharmaceutical",
   "metadata": {},
   "outputs": [],
   "source": [
    "alldata_SORTED = alldata.sort_values(by = 'Time[ms]').reset_index(drop=True)"
   ]
  },
  {
   "cell_type": "code",
   "execution_count": 13,
   "id": "d71e02f8",
   "metadata": {},
   "outputs": [],
   "source": [
    "alldata_SORTED_cut = alldata_SORTED.dropna().reset_index(drop=True)"
   ]
  },
  {
   "cell_type": "code",
   "execution_count": 14,
   "id": "87f12f7e",
   "metadata": {},
   "outputs": [],
   "source": [
    "alldata_SORTED_cut['Time'] = pd.to_datetime(alldata_SORTED_cut['Time[ms]'].dt.strftime('%H:%M:%S'))"
   ]
  },
  {
   "cell_type": "code",
   "execution_count": 15,
   "id": "spectacular-contest",
   "metadata": {},
   "outputs": [],
   "source": [
    "rw = alldata_SORTED_cut[alldata_SORTED_cut.driver == 'RW'].reset_index(drop=True).drop_duplicates()\n",
    "la = alldata_SORTED_cut[alldata_SORTED_cut.driver == 'LA'].reset_index(drop=True).drop_duplicates()\n",
    "ps = alldata_SORTED_cut[alldata_SORTED_cut.driver == 'PS'].reset_index(drop=True).drop_duplicates()"
   ]
  },
  {
   "cell_type": "code",
   "execution_count": 16,
   "id": "indoor-netherlands",
   "metadata": {},
   "outputs": [],
   "source": [
    "from haversine import haversine, Unit\n",
    "import haversine as hs"
   ]
  },
  {
   "cell_type": "code",
   "execution_count": 17,
   "id": "dd367c93",
   "metadata": {},
   "outputs": [
    {
     "ename": "ValueError",
     "evalue": "min() arg is an empty sequence",
     "output_type": "error",
     "traceback": [
      "\u001b[1;31m---------------------------------------------------------------------------\u001b[0m",
      "\u001b[1;31mValueError\u001b[0m                                Traceback (most recent call last)",
      "Cell \u001b[1;32mIn[17], line 34\u001b[0m\n\u001b[0;32m     31\u001b[0m \u001b[38;5;28;01mfor\u001b[39;00m j \u001b[38;5;129;01min\u001b[39;00m \u001b[38;5;28mrange\u001b[39m(\u001b[38;5;28mlen\u001b[39m(df_array2)):\n\u001b[0;32m     32\u001b[0m     dist_mat\u001b[38;5;241m.\u001b[39mappend(hs\u001b[38;5;241m.\u001b[39mhaversine(df_array1,df_array2[j],unit\u001b[38;5;241m=\u001b[39mUnit\u001b[38;5;241m.\u001b[39mMETERS))\n\u001b[1;32m---> 34\u001b[0m la_mindist \u001b[38;5;241m=\u001b[39m \u001b[38;5;28;43mmin\u001b[39;49m\u001b[43m(\u001b[49m\u001b[43mdist_mat\u001b[49m\u001b[43m)\u001b[49m\n\u001b[0;32m     35\u001b[0m la_mindist_index \u001b[38;5;241m=\u001b[39m dist_mat\u001b[38;5;241m.\u001b[39mindex(la_mindist)\n\u001b[0;32m     37\u001b[0m platoon_dist\u001b[38;5;241m.\u001b[39mappend(la_mindist)\n",
      "\u001b[1;31mValueError\u001b[0m: min() arg is an empty sequence"
     ]
    }
   ],
   "source": [
    "platoon_alldist = []\n",
    "platoon_all_CO2 = []\n",
    "\n",
    "platoon_all_lat_dist = []\n",
    "platoon_all_lon_dist = []\n",
    "\n",
    "platoon_all_lat_CO2 = []\n",
    "platoon_all_lon_CO2 = []\n",
    "\n",
    "#ps --> rw\n",
    "#jc --> la\n",
    "#dw --> ps\n",
    "\n",
    "\n",
    "for i in range(len(rw)):\n",
    "    platoon_lat_dist = []\n",
    "    platoon_lon_dist = []\n",
    "    platoon_lat_CO2 = []\n",
    "    platoon_lon_CO2 = []\n",
    "    platoon_dist = []\n",
    "    CO2_max = []\n",
    "    dist_mat = []\n",
    "    \n",
    "    rw_ = rw.iloc[i]\n",
    "    \n",
    "    df_array1 = (rw_.Latitude, rw_.Longitude)\n",
    "\n",
    "    la_ = la[la['Time'] > rw_['Time']].reset_index(drop=True)\n",
    "    df_array2 = list(zip(la_.Latitude, la_.Longitude))[0:60]\n",
    "        \n",
    "    for j in range(len(df_array2)):\n",
    "        dist_mat.append(hs.haversine(df_array1,df_array2[j],unit=Unit.METERS))\n",
    "\n",
    "    la_mindist = min(dist_mat)\n",
    "    la_mindist_index = dist_mat.index(la_mindist)\n",
    "\n",
    "    platoon_dist.append(la_mindist)\n",
    "\n",
    "    platoon_lat_dist.append(la_.iloc[la_mindist_index][\"Latitude\"])\n",
    "    platoon_lon_dist.append(la_.iloc[la_mindist_index][\"Longitude\"])\n",
    "\n",
    "    CO2 = []\n",
    "    CO2.append(la_.iloc[0]['CO2[kg]'])\n",
    "    try:\n",
    "        CO2.extend(list(la_.iloc[1:21]['CO2[kg]']))\n",
    "    except:\n",
    "        pass\n",
    "    \n",
    "    la_maxCO2 = max(CO2)\n",
    "    la_maxCO2_index = CO2.index(la_maxCO2)\n",
    "    CO2_max.append(la_.reset_index(drop=True).iloc[la_maxCO2_index]['CO2[kg]'])\n",
    "    platoon_lat_CO2.append(la_.reset_index(drop=True).iloc[la_maxCO2_index][\"Latitude\"])\n",
    "    platoon_lon_CO2.append(la_.reset_index(drop=True).iloc[la_maxCO2_index][\"Longitude\"])    \n",
    "\n",
    "\n",
    "    ps_ = ps[ps['Time'] > la_['Time'][la_mindist_index]].reset_index(drop=True)\n",
    "    df_array3 = list(zip(ps_.Latitude, ps_.Longitude))[0:60]        \n",
    "    \n",
    "    dist_mat = []\n",
    "\n",
    "    for j in range(len(df_array3)):\n",
    "        dist_mat.append(hs.haversine(df_array2[la_mindist_index],df_array3[j],unit=Unit.METERS))\n",
    "\n",
    "    ps_mindist = min(dist_mat)\n",
    "    ps_mindist_index = dist_mat.index(ps_mindist)\n",
    "\n",
    "    platoon_dist.append(ps_mindist)\n",
    "    platoon_lat_dist.append(ps_.reset_index(drop=True).iloc[ps_mindist_index][\"Latitude\"])\n",
    "    platoon_lon_dist.append(ps_.reset_index(drop=True).iloc[ps_mindist_index][\"Longitude\"])    \n",
    "\n",
    "    CO2 = []\n",
    "\n",
    "    CO2.append(ps_.iloc[0]['CO2[kg]'])\n",
    "    try:\n",
    "        CO2.extend(list(ps_.iloc[1:21]['CO2[kg]']))\n",
    "    except:\n",
    "        pass\n",
    "    ps_maxCO2 = max(CO2)\n",
    "    ps_maxCO2_index = CO2.index(ps_maxCO2)\n",
    "    CO2_max.append(ps_.reset_index(drop=True).iloc[ps_maxCO2_index]['CO2[kg]'])\n",
    "    platoon_lat_CO2.append(ps_.reset_index(drop=True).iloc[ps_maxCO2_index][\"Latitude\"])\n",
    "    platoon_lon_CO2.append(ps_.reset_index(drop=True).iloc[ps_maxCO2_index][\"Longitude\"])  \n",
    "\n",
    "      \n",
    "    platoon_all_lat_dist.append(platoon_lat_dist)\n",
    "    platoon_all_lon_dist.append(platoon_lon_dist)\n",
    "    platoon_all_lat_CO2.append(platoon_lat_CO2)\n",
    "    platoon_all_lon_CO2.append(platoon_lon_CO2)\n",
    "    platoon_alldist.append(platoon_dist)\n",
    "    platoon_all_CO2.append(CO2_max)"
   ]
  },
  {
   "cell_type": "code",
   "execution_count": null,
   "id": "a5fd7a21",
   "metadata": {},
   "outputs": [],
   "source": [
    "pd.DataFrame(platoon_alldist, columns = ['RW_LA', 'LA_PS']).plot(figsize=(30,10))"
   ]
  },
  {
   "cell_type": "code",
   "execution_count": 18,
   "id": "7611aec8",
   "metadata": {},
   "outputs": [],
   "source": [
    "dist_v = pd.DataFrame(platoon_alldist, columns = ['RW_LA', 'LA_PS'])\n",
    "pd.DataFrame(platoon_alldist, columns = ['RW_LA', 'LA_PS']).to_csv('distance_platoon.csv', index=False)"
   ]
  },
  {
   "cell_type": "code",
   "execution_count": 19,
   "id": "444d257e",
   "metadata": {},
   "outputs": [],
   "source": [
    "dist_coord = pd.concat([pd.DataFrame(platoon_all_lat_dist, columns=['v1_lat', 'v2_lat'])['v1_lat'], pd.DataFrame(platoon_all_lon_dist, columns=['v1_lon', 'v2_lon'])['v1_lon'],pd.DataFrame(platoon_all_lat_dist, columns=['v1_lat', 'v2_lat'])['v2_lat'], pd.DataFrame(platoon_all_lon_dist, columns=['v1_lon', 'v2_lon'])['v2_lon']], axis=1)"
   ]
  },
  {
   "cell_type": "code",
   "execution_count": 20,
   "id": "486c275b",
   "metadata": {},
   "outputs": [],
   "source": [
    "pd.concat([pd.DataFrame(platoon_all_lat_dist, columns=['v1_lat', 'v2_lat'])['v1_lat'], pd.DataFrame(platoon_all_lon_dist, columns=['v1_lon', 'v2_lon'])['v1_lon'],pd.DataFrame(platoon_all_lat_dist, columns=['v1_lat', 'v2_lat'])['v2_lat'], pd.DataFrame(platoon_all_lon_dist, columns=['v1_lon', 'v2_lon'])['v2_lon']], axis=1).to_csv('platoon_distances_coord.csv', index=False)"
   ]
  },
  {
   "cell_type": "code",
   "execution_count": 21,
   "id": "9b8266d5",
   "metadata": {},
   "outputs": [
    {
     "data": {
      "text/plain": [
       "array(['Turn_left', '4-ways intersection', 'Traffic_light', 'Curve',\n",
       "       'Road_immission', 'Turn_right'], dtype=object)"
      ]
     },
     "execution_count": 21,
     "metadata": {},
     "output_type": "execute_result"
    }
   ],
   "source": [
    "infr = pd.read_csv('../../data/infrast_data_update_.csv', sep=';')\n",
    "infr.what.unique()"
   ]
  },
  {
   "cell_type": "code",
   "execution_count": null,
   "id": "783b81e0",
   "metadata": {},
   "outputs": [],
   "source": [
    "allveic = []\n",
    "for k in range(0, len(dist_coord.columns)-1, 2):\n",
    "    veic = []\n",
    "    for i in range(len(dist_coord)):\n",
    "        infra = []\n",
    "        for j in range(len(infr)):\n",
    "            inf = (infr.iloc[j].lon,infr.iloc[j].lat)\n",
    "            distcoor = (dist_coord.iloc[i][str(dist_coord.columns[k+1])], dist_coord.iloc[i][str(dist_coord.columns[k])])\n",
    "            infra.append(hs.haversine(inf,distcoor,unit=Unit.METERS))\n",
    "        veic.append(infra)\n",
    "    allveic.append(veic)"
   ]
  },
  {
   "cell_type": "code",
   "execution_count": 25,
   "id": "0137f35c",
   "metadata": {},
   "outputs": [],
   "source": [
    "v1 = pd.DataFrame(allveic[0])\n",
    "v2 = pd.DataFrame(allveic[1])"
   ]
  },
  {
   "cell_type": "code",
   "execution_count": 26,
   "id": "cbdfeb5d",
   "metadata": {},
   "outputs": [],
   "source": [
    "allfeat = []\n",
    "for i in range(len(v1)): \n",
    "    allfeat.append(list(v1[v1<500].iloc[i].dropna()))\n",
    "new_v1 = pd.DataFrame(allfeat).iloc[:,0:7].fillna(0)"
   ]
  },
  {
   "cell_type": "code",
   "execution_count": 27,
   "id": "68e094be",
   "metadata": {},
   "outputs": [],
   "source": [
    "allfeat = []\n",
    "for i in range(len(v2)): \n",
    "    allfeat.append(list(v2[v2<500].iloc[i].dropna()))\n",
    "new_v2 = pd.DataFrame(allfeat).iloc[:,0:7].fillna(0)"
   ]
  },
  {
   "cell_type": "code",
   "execution_count": 28,
   "id": "27f4dec0",
   "metadata": {},
   "outputs": [],
   "source": [
    "v1.columns = infr.what\n",
    "v2.columns = infr.what"
   ]
  },
  {
   "cell_type": "code",
   "execution_count": 29,
   "id": "605e9728",
   "metadata": {},
   "outputs": [],
   "source": [
    "vlist = []\n",
    "vlist.append(v1)\n",
    "vlist.append(v2)"
   ]
  },
  {
   "cell_type": "code",
   "execution_count": 30,
   "id": "d3ccde1a",
   "metadata": {},
   "outputs": [],
   "source": [
    "import statsmodels.api as sm"
   ]
  },
  {
   "cell_type": "code",
   "execution_count": 31,
   "id": "5a735593",
   "metadata": {},
   "outputs": [
    {
     "data": {
      "text/html": [
       "<table class=\"simpletable\">\n",
       "<caption>OLS Regression Results</caption>\n",
       "<tr>\n",
       "  <th>Dep. Variable:</th>          <td>LA_PS</td>      <th>  R-squared (uncentered):</th>      <td>   0.916</td>\n",
       "</tr>\n",
       "<tr>\n",
       "  <th>Model:</th>                   <td>OLS</td>       <th>  Adj. R-squared (uncentered):</th> <td>   0.915</td>\n",
       "</tr>\n",
       "<tr>\n",
       "  <th>Method:</th>             <td>Least Squares</td>  <th>  F-statistic:       </th>          <td>   1152.</td>\n",
       "</tr>\n",
       "<tr>\n",
       "  <th>Date:</th>             <td>Tue, 01 Aug 2023</td> <th>  Prob (F-statistic):</th>           <td>  0.00</td> \n",
       "</tr>\n",
       "<tr>\n",
       "  <th>Time:</th>                 <td>08:56:53</td>     <th>  Log-Likelihood:    </th>          <td> -4226.0</td>\n",
       "</tr>\n",
       "<tr>\n",
       "  <th>No. Observations:</th>      <td>   745</td>      <th>  AIC:               </th>          <td>   8466.</td>\n",
       "</tr>\n",
       "<tr>\n",
       "  <th>Df Residuals:</th>          <td>   738</td>      <th>  BIC:               </th>          <td>   8498.</td>\n",
       "</tr>\n",
       "<tr>\n",
       "  <th>Df Model:</th>              <td>     7</td>      <th>                     </th>              <td> </td>   \n",
       "</tr>\n",
       "<tr>\n",
       "  <th>Covariance Type:</th>      <td>nonrobust</td>    <th>                     </th>              <td> </td>   \n",
       "</tr>\n",
       "</table>\n",
       "<table class=\"simpletable\">\n",
       "<tr>\n",
       "              <td></td>                <th>coef</th>     <th>std err</th>      <th>t</th>      <th>P>|t|</th>  <th>[0.025</th>    <th>0.975]</th>  \n",
       "</tr>\n",
       "<tr>\n",
       "  <th>Feat_4-ways intersection</th> <td>   35.3990</td> <td>   17.683</td> <td>    2.002</td> <td> 0.046</td> <td>    0.683</td> <td>   70.115</td>\n",
       "</tr>\n",
       "<tr>\n",
       "  <th>Feat_Curve</th>               <td>    2.3755</td> <td>   14.038</td> <td>    0.169</td> <td> 0.866</td> <td>  -25.184</td> <td>   29.935</td>\n",
       "</tr>\n",
       "<tr>\n",
       "  <th>Feat_Road_immission</th>      <td>   -9.7012</td> <td>   14.141</td> <td>   -0.686</td> <td> 0.493</td> <td>  -37.463</td> <td>   18.061</td>\n",
       "</tr>\n",
       "<tr>\n",
       "  <th>Feat_Traffic_light</th>       <td>   18.0871</td> <td>    3.860</td> <td>    4.686</td> <td> 0.000</td> <td>   10.509</td> <td>   25.665</td>\n",
       "</tr>\n",
       "<tr>\n",
       "  <th>Feat_Turn_left</th>           <td>  -35.6455</td> <td>    9.972</td> <td>   -3.574</td> <td> 0.000</td> <td>  -55.223</td> <td>  -16.068</td>\n",
       "</tr>\n",
       "<tr>\n",
       "  <th>Feat_Turn_right</th>          <td>   -0.5867</td> <td>   10.311</td> <td>   -0.057</td> <td> 0.955</td> <td>  -20.829</td> <td>   19.656</td>\n",
       "</tr>\n",
       "<tr>\n",
       "  <th>old_dist</th>                 <td>    0.9973</td> <td>    0.018</td> <td>   54.620</td> <td> 0.000</td> <td>    0.961</td> <td>    1.033</td>\n",
       "</tr>\n",
       "</table>\n",
       "<table class=\"simpletable\">\n",
       "<tr>\n",
       "  <th>Omnibus:</th>       <td>814.901</td> <th>  Durbin-Watson:     </th> <td>   0.096</td> \n",
       "</tr>\n",
       "<tr>\n",
       "  <th>Prob(Omnibus):</th> <td> 0.000</td>  <th>  Jarque-Bera (JB):  </th> <td>47304.626</td>\n",
       "</tr>\n",
       "<tr>\n",
       "  <th>Skew:</th>          <td> 5.271</td>  <th>  Prob(JB):          </th> <td>    0.00</td> \n",
       "</tr>\n",
       "<tr>\n",
       "  <th>Kurtosis:</th>      <td>40.587</td>  <th>  Cond. No.          </th> <td>1.66e+03</td> \n",
       "</tr>\n",
       "</table><br/><br/>Notes:<br/>[1] R² is computed without centering (uncentered) since the model does not contain a constant.<br/>[2] Standard Errors assume that the covariance matrix of the errors is correctly specified.<br/>[3] The condition number is large, 1.66e+03. This might indicate that there are<br/>strong multicollinearity or other numerical problems."
      ],
      "text/latex": [
       "\\begin{center}\n",
       "\\begin{tabular}{lclc}\n",
       "\\toprule\n",
       "\\textbf{Dep. Variable:}            &      LA\\_PS      & \\textbf{  R-squared (uncentered):}      &     0.916   \\\\\n",
       "\\textbf{Model:}                    &       OLS        & \\textbf{  Adj. R-squared (uncentered):} &     0.915   \\\\\n",
       "\\textbf{Method:}                   &  Least Squares   & \\textbf{  F-statistic:       }          &     1152.   \\\\\n",
       "\\textbf{Date:}                     & Tue, 01 Aug 2023 & \\textbf{  Prob (F-statistic):}          &     0.00    \\\\\n",
       "\\textbf{Time:}                     &     08:56:53     & \\textbf{  Log-Likelihood:    }          &   -4226.0   \\\\\n",
       "\\textbf{No. Observations:}         &         745      & \\textbf{  AIC:               }          &     8466.   \\\\\n",
       "\\textbf{Df Residuals:}             &         738      & \\textbf{  BIC:               }          &     8498.   \\\\\n",
       "\\textbf{Df Model:}                 &           7      & \\textbf{                     }          &             \\\\\n",
       "\\textbf{Covariance Type:}          &    nonrobust     & \\textbf{                     }          &             \\\\\n",
       "\\bottomrule\n",
       "\\end{tabular}\n",
       "\\begin{tabular}{lcccccc}\n",
       "                                   & \\textbf{coef} & \\textbf{std err} & \\textbf{t} & \\textbf{P$> |$t$|$} & \\textbf{[0.025} & \\textbf{0.975]}  \\\\\n",
       "\\midrule\n",
       "\\textbf{Feat\\_4-ways intersection} &      35.3990  &       17.683     &     2.002  &         0.046        &        0.683    &       70.115     \\\\\n",
       "\\textbf{Feat\\_Curve}               &       2.3755  &       14.038     &     0.169  &         0.866        &      -25.184    &       29.935     \\\\\n",
       "\\textbf{Feat\\_Road\\_immission}     &      -9.7012  &       14.141     &    -0.686  &         0.493        &      -37.463    &       18.061     \\\\\n",
       "\\textbf{Feat\\_Traffic\\_light}      &      18.0871  &        3.860     &     4.686  &         0.000        &       10.509    &       25.665     \\\\\n",
       "\\textbf{Feat\\_Turn\\_left}          &     -35.6455  &        9.972     &    -3.574  &         0.000        &      -55.223    &      -16.068     \\\\\n",
       "\\textbf{Feat\\_Turn\\_right}         &      -0.5867  &       10.311     &    -0.057  &         0.955        &      -20.829    &       19.656     \\\\\n",
       "\\textbf{old\\_dist}                 &       0.9973  &        0.018     &    54.620  &         0.000        &        0.961    &        1.033     \\\\\n",
       "\\bottomrule\n",
       "\\end{tabular}\n",
       "\\begin{tabular}{lclc}\n",
       "\\textbf{Omnibus:}       & 814.901 & \\textbf{  Durbin-Watson:     } &     0.096  \\\\\n",
       "\\textbf{Prob(Omnibus):} &   0.000 & \\textbf{  Jarque-Bera (JB):  } & 47304.626  \\\\\n",
       "\\textbf{Skew:}          &   5.271 & \\textbf{  Prob(JB):          } &      0.00  \\\\\n",
       "\\textbf{Kurtosis:}      &  40.587 & \\textbf{  Cond. No.          } &  1.66e+03  \\\\\n",
       "\\bottomrule\n",
       "\\end{tabular}\n",
       "%\\caption{OLS Regression Results}\n",
       "\\end{center}\n",
       "\n",
       "Notes: \\newline\n",
       " [1] R² is computed without centering (uncentered) since the model does not contain a constant. \\newline\n",
       " [2] Standard Errors assume that the covariance matrix of the errors is correctly specified. \\newline\n",
       " [3] The condition number is large, 1.66e+03. This might indicate that there are \\newline\n",
       " strong multicollinearity or other numerical problems."
      ],
      "text/plain": [
       "<class 'statsmodels.iolib.summary.Summary'>\n",
       "\"\"\"\n",
       "                                 OLS Regression Results                                \n",
       "=======================================================================================\n",
       "Dep. Variable:                  LA_PS   R-squared (uncentered):                   0.916\n",
       "Model:                            OLS   Adj. R-squared (uncentered):              0.915\n",
       "Method:                 Least Squares   F-statistic:                              1152.\n",
       "Date:                Tue, 01 Aug 2023   Prob (F-statistic):                        0.00\n",
       "Time:                        08:56:53   Log-Likelihood:                         -4226.0\n",
       "No. Observations:                 745   AIC:                                      8466.\n",
       "Df Residuals:                     738   BIC:                                      8498.\n",
       "Df Model:                           7                                                  \n",
       "Covariance Type:            nonrobust                                                  \n",
       "============================================================================================\n",
       "                               coef    std err          t      P>|t|      [0.025      0.975]\n",
       "--------------------------------------------------------------------------------------------\n",
       "Feat_4-ways intersection    35.3990     17.683      2.002      0.046       0.683      70.115\n",
       "Feat_Curve                   2.3755     14.038      0.169      0.866     -25.184      29.935\n",
       "Feat_Road_immission         -9.7012     14.141     -0.686      0.493     -37.463      18.061\n",
       "Feat_Traffic_light          18.0871      3.860      4.686      0.000      10.509      25.665\n",
       "Feat_Turn_left             -35.6455      9.972     -3.574      0.000     -55.223     -16.068\n",
       "Feat_Turn_right             -0.5867     10.311     -0.057      0.955     -20.829      19.656\n",
       "old_dist                     0.9973      0.018     54.620      0.000       0.961       1.033\n",
       "==============================================================================\n",
       "Omnibus:                      814.901   Durbin-Watson:                   0.096\n",
       "Prob(Omnibus):                  0.000   Jarque-Bera (JB):            47304.626\n",
       "Skew:                           5.271   Prob(JB):                         0.00\n",
       "Kurtosis:                      40.587   Cond. No.                     1.66e+03\n",
       "==============================================================================\n",
       "\n",
       "Notes:\n",
       "[1] R² is computed without centering (uncentered) since the model does not contain a constant.\n",
       "[2] Standard Errors assume that the covariance matrix of the errors is correctly specified.\n",
       "[3] The condition number is large, 1.66e+03. This might indicate that there are\n",
       "strong multicollinearity or other numerical problems.\n",
       "\"\"\""
      ]
     },
     "execution_count": 31,
     "metadata": {},
     "output_type": "execute_result"
    }
   ],
   "source": [
    "all_X = []\n",
    "all_y = []\n",
    "\n",
    "for k in range(len(vlist)):\n",
    "    feats = []\n",
    "    v = vlist[k]\n",
    "    infrast = v.idxmin(axis=1)\n",
    "    for i in range(len(v)):\n",
    "        if (v.iloc[i][str(infrast[i])] < 80).any():\n",
    "            feats.append([infrast[i]])\n",
    "        else:\n",
    "            feats.append([])\n",
    "    new_v = pd.get_dummies(pd.DataFrame(feats), prefix='Feat')\n",
    "\n",
    "    X = new_v.copy()\n",
    "    y = dist_v[str(dist_v.columns[k])]\n",
    "    X['old_dist'] = dist_v[str(dist_v.columns[k])].shift(10).fillna(0)\n",
    "    all_X.append(X)\n",
    "    all_y.append(y)\n",
    "\n",
    "all_X_ = pd.concat(all_X).reset_index(drop=True).fillna(0)\n",
    "all_y_ = pd.concat(all_y).reset_index(drop=True).fillna(0)\n",
    "model = sm.OLS(y, X).fit()\n",
    "predictions = model.predict(X)\n",
    "model.summary()"
   ]
  },
  {
   "cell_type": "code",
   "execution_count": 32,
   "id": "c0830b30",
   "metadata": {},
   "outputs": [],
   "source": [
    "results_summary = model.summary()\n",
    "df = pd.DataFrame.from_records(results_summary.tables[1].data)\n",
    "header = df.iloc[0]\n",
    "df = df[1:] # take the data less the header row\n",
    "df.columns = header\n",
    "df.to_csv('platoon_II_13_09_09_39_09_52.csv')"
   ]
  },
  {
   "cell_type": "code",
   "execution_count": 33,
   "id": "144b5782",
   "metadata": {},
   "outputs": [
    {
     "data": {
      "text/html": [
       "<table class=\"simpletable\">\n",
       "<caption>OLS Regression Results</caption>\n",
       "<tr>\n",
       "  <th>Dep. Variable:</th>          <td>LA_PS</td>      <th>  R-squared (uncentered):</th>      <td>   0.554</td> \n",
       "</tr>\n",
       "<tr>\n",
       "  <th>Model:</th>                   <td>OLS</td>       <th>  Adj. R-squared (uncentered):</th> <td>   0.550</td> \n",
       "</tr>\n",
       "<tr>\n",
       "  <th>Method:</th>             <td>Least Squares</td>  <th>  F-statistic:       </th>          <td>   131.2</td> \n",
       "</tr>\n",
       "<tr>\n",
       "  <th>Date:</th>             <td>Tue, 01 Aug 2023</td> <th>  Prob (F-statistic):</th>          <td>5.24e-125</td>\n",
       "</tr>\n",
       "<tr>\n",
       "  <th>Time:</th>                 <td>08:56:58</td>     <th>  Log-Likelihood:    </th>          <td>  3165.4</td> \n",
       "</tr>\n",
       "<tr>\n",
       "  <th>No. Observations:</th>      <td>   745</td>      <th>  AIC:               </th>          <td>  -6317.</td> \n",
       "</tr>\n",
       "<tr>\n",
       "  <th>Df Residuals:</th>          <td>   738</td>      <th>  BIC:               </th>          <td>  -6284.</td> \n",
       "</tr>\n",
       "<tr>\n",
       "  <th>Df Model:</th>              <td>     7</td>      <th>                     </th>              <td> </td>    \n",
       "</tr>\n",
       "<tr>\n",
       "  <th>Covariance Type:</th>      <td>nonrobust</td>    <th>                     </th>              <td> </td>    \n",
       "</tr>\n",
       "</table>\n",
       "<table class=\"simpletable\">\n",
       "<tr>\n",
       "              <td></td>                <th>coef</th>     <th>std err</th>      <th>t</th>      <th>P>|t|</th>  <th>[0.025</th>    <th>0.975]</th>  \n",
       "</tr>\n",
       "<tr>\n",
       "  <th>Feat_4-ways intersection</th> <td>    0.0025</td> <td>    0.001</td> <td>    2.825</td> <td> 0.005</td> <td>    0.001</td> <td>    0.004</td>\n",
       "</tr>\n",
       "<tr>\n",
       "  <th>Feat_Curve</th>               <td>    0.0020</td> <td>    0.001</td> <td>    2.870</td> <td> 0.004</td> <td>    0.001</td> <td>    0.003</td>\n",
       "</tr>\n",
       "<tr>\n",
       "  <th>Feat_Road_immission</th>      <td>    0.0068</td> <td>    0.001</td> <td>    9.814</td> <td> 0.000</td> <td>    0.005</td> <td>    0.008</td>\n",
       "</tr>\n",
       "<tr>\n",
       "  <th>Feat_Traffic_light</th>       <td>    0.0040</td> <td>    0.000</td> <td>   20.874</td> <td> 0.000</td> <td>    0.004</td> <td>    0.004</td>\n",
       "</tr>\n",
       "<tr>\n",
       "  <th>Feat_Turn_left</th>           <td>    0.0031</td> <td>    0.000</td> <td>    6.298</td> <td> 0.000</td> <td>    0.002</td> <td>    0.004</td>\n",
       "</tr>\n",
       "<tr>\n",
       "  <th>Feat_Turn_right</th>          <td>    0.0069</td> <td>    0.001</td> <td>   13.571</td> <td> 0.000</td> <td>    0.006</td> <td>    0.008</td>\n",
       "</tr>\n",
       "<tr>\n",
       "  <th>old_dist</th>                 <td>  9.26e-07</td> <td> 8.97e-07</td> <td>    1.033</td> <td> 0.302</td> <td>-8.35e-07</td> <td> 2.69e-06</td>\n",
       "</tr>\n",
       "</table>\n",
       "<table class=\"simpletable\">\n",
       "<tr>\n",
       "  <th>Omnibus:</th>       <td>125.608</td> <th>  Durbin-Watson:     </th> <td>   0.134</td>\n",
       "</tr>\n",
       "<tr>\n",
       "  <th>Prob(Omnibus):</th> <td> 0.000</td>  <th>  Jarque-Bera (JB):  </th> <td> 236.213</td>\n",
       "</tr>\n",
       "<tr>\n",
       "  <th>Skew:</th>          <td> 0.992</td>  <th>  Prob(JB):          </th> <td>5.09e-52</td>\n",
       "</tr>\n",
       "<tr>\n",
       "  <th>Kurtosis:</th>      <td> 4.917</td>  <th>  Cond. No.          </th> <td>1.66e+03</td>\n",
       "</tr>\n",
       "</table><br/><br/>Notes:<br/>[1] R² is computed without centering (uncentered) since the model does not contain a constant.<br/>[2] Standard Errors assume that the covariance matrix of the errors is correctly specified.<br/>[3] The condition number is large, 1.66e+03. This might indicate that there are<br/>strong multicollinearity or other numerical problems."
      ],
      "text/latex": [
       "\\begin{center}\n",
       "\\begin{tabular}{lclc}\n",
       "\\toprule\n",
       "\\textbf{Dep. Variable:}            &      LA\\_PS      & \\textbf{  R-squared (uncentered):}      &     0.554   \\\\\n",
       "\\textbf{Model:}                    &       OLS        & \\textbf{  Adj. R-squared (uncentered):} &     0.550   \\\\\n",
       "\\textbf{Method:}                   &  Least Squares   & \\textbf{  F-statistic:       }          &     131.2   \\\\\n",
       "\\textbf{Date:}                     & Tue, 01 Aug 2023 & \\textbf{  Prob (F-statistic):}          & 5.24e-125   \\\\\n",
       "\\textbf{Time:}                     &     08:56:58     & \\textbf{  Log-Likelihood:    }          &    3165.4   \\\\\n",
       "\\textbf{No. Observations:}         &         745      & \\textbf{  AIC:               }          &    -6317.   \\\\\n",
       "\\textbf{Df Residuals:}             &         738      & \\textbf{  BIC:               }          &    -6284.   \\\\\n",
       "\\textbf{Df Model:}                 &           7      & \\textbf{                     }          &             \\\\\n",
       "\\textbf{Covariance Type:}          &    nonrobust     & \\textbf{                     }          &             \\\\\n",
       "\\bottomrule\n",
       "\\end{tabular}\n",
       "\\begin{tabular}{lcccccc}\n",
       "                                   & \\textbf{coef} & \\textbf{std err} & \\textbf{t} & \\textbf{P$> |$t$|$} & \\textbf{[0.025} & \\textbf{0.975]}  \\\\\n",
       "\\midrule\n",
       "\\textbf{Feat\\_4-ways intersection} &       0.0025  &        0.001     &     2.825  &         0.005        &        0.001    &        0.004     \\\\\n",
       "\\textbf{Feat\\_Curve}               &       0.0020  &        0.001     &     2.870  &         0.004        &        0.001    &        0.003     \\\\\n",
       "\\textbf{Feat\\_Road\\_immission}     &       0.0068  &        0.001     &     9.814  &         0.000        &        0.005    &        0.008     \\\\\n",
       "\\textbf{Feat\\_Traffic\\_light}      &       0.0040  &        0.000     &    20.874  &         0.000        &        0.004    &        0.004     \\\\\n",
       "\\textbf{Feat\\_Turn\\_left}          &       0.0031  &        0.000     &     6.298  &         0.000        &        0.002    &        0.004     \\\\\n",
       "\\textbf{Feat\\_Turn\\_right}         &       0.0069  &        0.001     &    13.571  &         0.000        &        0.006    &        0.008     \\\\\n",
       "\\textbf{old\\_dist}                 &     9.26e-07  &     8.97e-07     &     1.033  &         0.302        &    -8.35e-07    &     2.69e-06     \\\\\n",
       "\\bottomrule\n",
       "\\end{tabular}\n",
       "\\begin{tabular}{lclc}\n",
       "\\textbf{Omnibus:}       & 125.608 & \\textbf{  Durbin-Watson:     } &    0.134  \\\\\n",
       "\\textbf{Prob(Omnibus):} &   0.000 & \\textbf{  Jarque-Bera (JB):  } &  236.213  \\\\\n",
       "\\textbf{Skew:}          &   0.992 & \\textbf{  Prob(JB):          } & 5.09e-52  \\\\\n",
       "\\textbf{Kurtosis:}      &   4.917 & \\textbf{  Cond. No.          } & 1.66e+03  \\\\\n",
       "\\bottomrule\n",
       "\\end{tabular}\n",
       "%\\caption{OLS Regression Results}\n",
       "\\end{center}\n",
       "\n",
       "Notes: \\newline\n",
       " [1] R² is computed without centering (uncentered) since the model does not contain a constant. \\newline\n",
       " [2] Standard Errors assume that the covariance matrix of the errors is correctly specified. \\newline\n",
       " [3] The condition number is large, 1.66e+03. This might indicate that there are \\newline\n",
       " strong multicollinearity or other numerical problems."
      ],
      "text/plain": [
       "<class 'statsmodels.iolib.summary.Summary'>\n",
       "\"\"\"\n",
       "                                 OLS Regression Results                                \n",
       "=======================================================================================\n",
       "Dep. Variable:                  LA_PS   R-squared (uncentered):                   0.554\n",
       "Model:                            OLS   Adj. R-squared (uncentered):              0.550\n",
       "Method:                 Least Squares   F-statistic:                              131.2\n",
       "Date:                Tue, 01 Aug 2023   Prob (F-statistic):                   5.24e-125\n",
       "Time:                        08:56:58   Log-Likelihood:                          3165.4\n",
       "No. Observations:                 745   AIC:                                     -6317.\n",
       "Df Residuals:                     738   BIC:                                     -6284.\n",
       "Df Model:                           7                                                  \n",
       "Covariance Type:            nonrobust                                                  \n",
       "============================================================================================\n",
       "                               coef    std err          t      P>|t|      [0.025      0.975]\n",
       "--------------------------------------------------------------------------------------------\n",
       "Feat_4-ways intersection     0.0025      0.001      2.825      0.005       0.001       0.004\n",
       "Feat_Curve                   0.0020      0.001      2.870      0.004       0.001       0.003\n",
       "Feat_Road_immission          0.0068      0.001      9.814      0.000       0.005       0.008\n",
       "Feat_Traffic_light           0.0040      0.000     20.874      0.000       0.004       0.004\n",
       "Feat_Turn_left               0.0031      0.000      6.298      0.000       0.002       0.004\n",
       "Feat_Turn_right              0.0069      0.001     13.571      0.000       0.006       0.008\n",
       "old_dist                   9.26e-07   8.97e-07      1.033      0.302   -8.35e-07    2.69e-06\n",
       "==============================================================================\n",
       "Omnibus:                      125.608   Durbin-Watson:                   0.134\n",
       "Prob(Omnibus):                  0.000   Jarque-Bera (JB):              236.213\n",
       "Skew:                           0.992   Prob(JB):                     5.09e-52\n",
       "Kurtosis:                       4.917   Cond. No.                     1.66e+03\n",
       "==============================================================================\n",
       "\n",
       "Notes:\n",
       "[1] R² is computed without centering (uncentered) since the model does not contain a constant.\n",
       "[2] Standard Errors assume that the covariance matrix of the errors is correctly specified.\n",
       "[3] The condition number is large, 1.66e+03. This might indicate that there are\n",
       "strong multicollinearity or other numerical problems.\n",
       "\"\"\""
      ]
     },
     "execution_count": 33,
     "metadata": {},
     "output_type": "execute_result"
    }
   ],
   "source": [
    "platoon_all_CO2_ = pd.DataFrame(platoon_all_CO2, columns = ['RW_LA', 'LA_PS'])\n",
    "pd.DataFrame(platoon_all_CO2, columns = ['RW_LA', 'LA_PS']).to_csv('CO2_platoon.csv', index=False)\n",
    "\n",
    "all_X = []\n",
    "all_y = []\n",
    "\n",
    "for k in range(len(vlist)):\n",
    "    feats = []\n",
    "    v = vlist[k]\n",
    "    infrast = v.idxmin(axis=1)\n",
    "    for i in range(len(v)):\n",
    "        if (v.iloc[i][str(infrast[i])] <80).any():\n",
    "            feats.append([infrast[i]])\n",
    "        else:\n",
    "            feats.append([])\n",
    "    new_v = pd.get_dummies(pd.DataFrame(feats), prefix='Feat')\n",
    "\n",
    "    X = new_v.copy()\n",
    "    y = platoon_all_CO2_[str(platoon_all_CO2_.columns[k])]\n",
    "    X['old_dist'] = dist_v[str(dist_v.columns[k])].shift(10).fillna(0)\n",
    "    all_X.append(X)\n",
    "    all_y.append(y)\n",
    "\n",
    "all_X_ = pd.concat(all_X).reset_index(drop=True).fillna(0)\n",
    "all_y_ = pd.concat(all_y).reset_index(drop=True).fillna(0)\n",
    "model = sm.OLS(y, X).fit()\n",
    "predictions = model.predict(X)\n",
    "model.summary()"
   ]
  },
  {
   "cell_type": "code",
   "execution_count": 34,
   "id": "0e1a3b19",
   "metadata": {},
   "outputs": [],
   "source": [
    "results_summary = model.summary()\n",
    "df = pd.DataFrame.from_records(results_summary.tables[1].data)\n",
    "header = df.iloc[0]\n",
    "df = df[1:] # take the data less the header row\n",
    "df.columns = header\n",
    "df.to_csv('platoon_II_13_09_09_39_09_52_CO2.csv')"
   ]
  },
  {
   "cell_type": "code",
   "execution_count": null,
   "id": "b91cbdfd",
   "metadata": {},
   "outputs": [],
   "source": []
  }
 ],
 "metadata": {
  "kernelspec": {
   "display_name": "Python 3 (ipykernel)",
   "language": "python",
   "name": "python3"
  },
  "language_info": {
   "codemirror_mode": {
    "name": "ipython",
    "version": 3
   },
   "file_extension": ".py",
   "mimetype": "text/x-python",
   "name": "python",
   "nbconvert_exporter": "python",
   "pygments_lexer": "ipython3",
   "version": "3.10.9"
  }
 },
 "nbformat": 4,
 "nbformat_minor": 5
}
